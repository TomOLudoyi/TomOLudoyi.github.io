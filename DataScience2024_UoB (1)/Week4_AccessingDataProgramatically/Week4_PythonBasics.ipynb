{
  "nbformat": 4,
  "nbformat_minor": 0,
  "metadata": {
    "colab": {
      "provenance": []
    },
    "kernelspec": {
      "name": "python3",
      "display_name": "Python 3"
    },
    "language_info": {
      "name": "python"
    }
  },
  "cells": [
    {
      "cell_type": "markdown",
      "source": [
        "**Josh Hellings** - Practical Data Science for Economists 2024"
      ],
      "metadata": {
        "id": "NaXnP0Ezswwf"
      }
    },
    {
      "cell_type": "markdown",
      "source": [
        "In this notebook, we will explore some Python basics, covering data types, lists, dictionaries, and other techniques that will help kickstart the journey to using Python for Data Science."
      ],
      "metadata": {
        "id": "FxLDTfyms9aG"
      }
    },
    {
      "cell_type": "markdown",
      "source": [
        "<br>\n",
        "<br>\n",
        "\n",
        "# Python basics"
      ],
      "metadata": {
        "id": "rAqNR5_atAEj"
      }
    },
    {
      "cell_type": "markdown",
      "source": [
        "## 1. Assigning and viewing variables\n",
        "In Python, we can declare a variable and assign it a value using the assignment operator =.\n",
        "\n",
        "Variables are like containers that store data values. They allow us to label data with a descriptive name, so our code is easier to read and understand. In Python, we declare a variable and assign it a value like this:"
      ],
      "metadata": {
        "id": "KazmC63GtqXu"
      }
    },
    {
      "cell_type": "code",
      "execution_count": 1,
      "metadata": {
        "id": "pxIJ7pLcsbcm"
      },
      "outputs": [],
      "source": [
        "x = 10        # Assign variable x the integer value 10\n",
        "y = x + 5     # Assign variable y the value of x + 5\n",
        "z = \"dog\"     # Assign variable z the string value \"dog\""
      ]
    },
    {
      "cell_type": "markdown",
      "source": [
        "We can print these variables to check their values"
      ],
      "metadata": {
        "id": "YTZni-5tt2D4"
      }
    },
    {
      "cell_type": "code",
      "source": [
        "print(x)"
      ],
      "metadata": {
        "colab": {
          "base_uri": "https://localhost:8080/"
        },
        "id": "kTnxdp7ht0xJ",
        "outputId": "d82eb85a-ae03-4800-fe66-d9b700217eeb"
      },
      "execution_count": 2,
      "outputs": [
        {
          "output_type": "stream",
          "name": "stdout",
          "text": [
            "10\n"
          ]
        }
      ]
    },
    {
      "cell_type": "markdown",
      "source": [
        "Or we could print all at once"
      ],
      "metadata": {
        "id": "CXBcEhG8t6Qa"
      }
    },
    {
      "cell_type": "code",
      "source": [
        "print(x, y, z)"
      ],
      "metadata": {
        "colab": {
          "base_uri": "https://localhost:8080/"
        },
        "id": "eBCLarQSt5gG",
        "outputId": "1223bfe0-63af-4759-ea79-f8eebcc91f35"
      },
      "execution_count": 3,
      "outputs": [
        {
          "output_type": "stream",
          "name": "stdout",
          "text": [
            "10 15 dog\n"
          ]
        }
      ]
    },
    {
      "cell_type": "markdown",
      "source": [
        "**Tip**: In Python, we can add comments to the code using `#`. Any text after the hashtag is ignored when running the code, so we can use them to add helpful notes. (Shortcut: CTRL + '/' on Windows, or command + '/' on Mac)"
      ],
      "metadata": {
        "id": "Z3E9jPDjuGJ6"
      }
    },
    {
      "cell_type": "markdown",
      "source": [
        "<br>\n",
        "<br>\n",
        "\n",
        "## 2. Understanding Data Types\n",
        "\n",
        "In Python, data types are crucial as they define the operations possible on the values and how they can be stored. Here are some of the basic data types you'll frequently encounter:\n",
        "\n",
        "- **Integers** (`int`): Whole numbers, positive or negative, without decimals. Useful for counting or indexing. For example, age = 25.\n",
        "\n",
        "- **Floating Point Numbers** (`float`): Numbers with a decimal point. Perfect for measurements or any calculations requiring precision. For example, inflation = 1.3\n",
        "\n",
        "- **Strings** (`str`): A sequence of characters, enclosed in single (' ') or double (\" \") quotes. Strings are how text is represented. For example, name = \"John Doe\".\n",
        "\n",
        "- **Lists** (`list`): An ordered collection of items, which can be of mixed data types. Lists are versatile and can be modified (mutable). These are written as a list with comma separated values (items) between square brackets. For example, fruits = [\"apple\", \"banana\", \"cherry\"].\n",
        "\n",
        "- **Dictionaries** (`dict`): A collection of key-value pairs. Each key-value pair maps the key to its associated value, making dictionaries perfect for storing data in a structured way, similar to JSON objects from APIs. For example, person = {\"name\": \"John\", \"age\": 25}. When we interact with JSON objects within Python, these are of dictionary type.\n",
        "\n",
        "**Hint**: Find out more about Python data types [here](https://www.w3schools.com/python/python_datatypes.asp)\n",
        "\n",
        "Understanding these types is essential because they determine what kind of operations you can perform on the data. For instance, you can add two integers or concatenate strings but trying to mix types without conversion (like adding a string to an integer) will lead to errors."
      ],
      "metadata": {
        "id": "sgpbxPASufeL"
      }
    },
    {
      "cell_type": "code",
      "source": [
        "# Integer example\n",
        "age = 25\n",
        "print(\"Age:\", age)\n",
        "\n",
        "# Floating point number example\n",
        "temperature = 98.6\n",
        "print(\"Temperature:\", temperature)\n",
        "\n",
        "# String example\n",
        "name = \"John Doe\"\n",
        "print(\"Name:\", name)\n",
        "\n",
        "# List example\n",
        "locations = [\"London\", \"Darlington\",  \"Newport\"]\n",
        "print(\"Locations:\", locations)\n",
        "\n",
        "# Dictionary example\n",
        "person = {\"name\": \"John\", \"age\": 25}\n",
        "print(\"Person:\", person)"
      ],
      "metadata": {
        "colab": {
          "base_uri": "https://localhost:8080/"
        },
        "id": "IDapKLRct_7K",
        "outputId": "8e13ae84-6d15-4b3e-bf7a-9a232289e0a1"
      },
      "execution_count": 4,
      "outputs": [
        {
          "output_type": "stream",
          "name": "stdout",
          "text": [
            "Age: 25\n",
            "Temperature: 98.6\n",
            "Name: John Doe\n",
            "Locations: ['London', 'Darlington', 'Newport']\n",
            "Person: {'name': 'John', 'age': 25}\n"
          ]
        }
      ]
    },
    {
      "cell_type": "markdown",
      "source": [
        "<br>\n",
        "\n",
        "We can check the date type of any variable using `type()`"
      ],
      "metadata": {
        "id": "x_FvMZR5u7p7"
      }
    },
    {
      "cell_type": "code",
      "source": [
        "type('This is string')"
      ],
      "metadata": {
        "colab": {
          "base_uri": "https://localhost:8080/"
        },
        "id": "9IJn4887vQsl",
        "outputId": "6b436010-3fc3-478e-eb59-12083483b1df"
      },
      "execution_count": 8,
      "outputs": [
        {
          "output_type": "execute_result",
          "data": {
            "text/plain": [
              "str"
            ]
          },
          "metadata": {},
          "execution_count": 8
        }
      ]
    },
    {
      "cell_type": "code",
      "source": [
        "type(3.1)"
      ],
      "metadata": {
        "colab": {
          "base_uri": "https://localhost:8080/"
        },
        "id": "sQgnKugdvaeG",
        "outputId": "d9a54348-d5f3-43c9-fec8-05855599daf7"
      },
      "execution_count": 9,
      "outputs": [
        {
          "output_type": "execute_result",
          "data": {
            "text/plain": [
              "float"
            ]
          },
          "metadata": {},
          "execution_count": 9
        }
      ]
    },
    {
      "cell_type": "code",
      "source": [
        "type(3)"
      ],
      "metadata": {
        "colab": {
          "base_uri": "https://localhost:8080/"
        },
        "id": "AX1WpPyjuhlX",
        "outputId": "7752bda7-6c6b-41fa-de53-e38c5ce64a2b"
      },
      "execution_count": 10,
      "outputs": [
        {
          "output_type": "execute_result",
          "data": {
            "text/plain": [
              "int"
            ]
          },
          "metadata": {},
          "execution_count": 10
        }
      ]
    },
    {
      "cell_type": "markdown",
      "source": [
        "<br>\n",
        "<br>\n",
        "\n",
        "## 3. Lists\n",
        "\n",
        "Lists are the most versatile datatype in Python, allowing you to store a collection of items in a single variable. They can contain items of different types, but typically all items in a list are of the same type."
      ],
      "metadata": {
        "id": "Wul59qftvm99"
      }
    },
    {
      "cell_type": "code",
      "source": [
        "x = []  # Pair of square brackets creates an empty list\n",
        "x = ['a']\n",
        "x = ['a', 'b', 'c']     # Items in a list are separated by commas\n",
        "x = [1, 'abc', 0.234]   # Lists can contain different data types (but best to stick to one type)"
      ],
      "metadata": {
        "id": "DEgIK2-Dzv1v"
      },
      "execution_count": 21,
      "outputs": []
    },
    {
      "cell_type": "markdown",
      "source": [
        "Let's explore how to interact with lists by editing and viewing their items, using a list of locations in Wales as our example."
      ],
      "metadata": {
        "id": "B8--HQid0LJN"
      }
    },
    {
      "cell_type": "code",
      "source": [
        "# Creating a list of locations\n",
        "locations = [\"Swansea\", \"Cardiff\", \"Newport\", \"Wrexham\"]\n",
        "print(\"Original locations:\", locations)"
      ],
      "metadata": {
        "colab": {
          "base_uri": "https://localhost:8080/"
        },
        "id": "1p8iVbsXvD53",
        "outputId": "e81d1be6-7564-4264-b6df-01a32a39db8a"
      },
      "execution_count": 26,
      "outputs": [
        {
          "output_type": "stream",
          "name": "stdout",
          "text": [
            "Original locations: ['Swansea', 'Cardiff', 'Newport', 'Wrexham']\n"
          ]
        }
      ]
    },
    {
      "cell_type": "markdown",
      "source": [
        "<br>\n",
        "\n",
        "### 3.1 **Accessing List Items by Index**\n",
        "\n",
        "Each item in a list is assigned an index based on its position, starting with 0. This means the first item has an index of 0, the second an index of 1, and so on. Here's how you can access an item by its index:"
      ],
      "metadata": {
        "id": "nkY9zTBDvt1N"
      }
    },
    {
      "cell_type": "code",
      "source": [
        "print(locations[0])\n",
        "print(locations[-1])    # What happens when we use a negative index?\n",
        "print(locations[2])"
      ],
      "metadata": {
        "colab": {
          "base_uri": "https://localhost:8080/"
        },
        "id": "-n9NA4qJ0sWY",
        "outputId": "974d6c69-449a-444e-86cb-94ad707ddf0d"
      },
      "execution_count": 28,
      "outputs": [
        {
          "output_type": "stream",
          "name": "stdout",
          "text": [
            "Swansea\n",
            "Wrexham\n",
            "Newport\n"
          ]
        }
      ]
    },
    {
      "cell_type": "code",
      "source": [
        "# Accessing the third item in the list\n",
        "third_location = locations[2]  # indexing starts at 0!\n",
        "print(\"The third location is:\", third_location)"
      ],
      "metadata": {
        "colab": {
          "base_uri": "https://localhost:8080/"
        },
        "id": "XeB2IifFvqM5",
        "outputId": "56a058f7-9960-4cf0-b5f8-fc664f841b4d"
      },
      "execution_count": 29,
      "outputs": [
        {
          "output_type": "stream",
          "name": "stdout",
          "text": [
            "The third location is: Newport\n"
          ]
        }
      ]
    },
    {
      "cell_type": "markdown",
      "source": [
        "**Note**: The rule to remember is that indexing starts at 0. So, the list above has positions 0, 1, 2 and 3. Asking for position 4—which would seem to be Wrexham—will throw an error because it is actually at index 3."
      ],
      "metadata": {
        "id": "I-0FD5eUv8PZ"
      }
    },
    {
      "cell_type": "code",
      "source": [
        "locations[4]"
      ],
      "metadata": {
        "colab": {
          "base_uri": "https://localhost:8080/",
          "height": 144
        },
        "id": "x1g_LEP0v3Ya",
        "outputId": "07129ae9-f0a2-467f-aa72-b3fccdd53f54"
      },
      "execution_count": 31,
      "outputs": [
        {
          "output_type": "error",
          "ename": "IndexError",
          "evalue": "list index out of range",
          "traceback": [
            "\u001b[0;31m---------------------------------------------------------------------------\u001b[0m",
            "\u001b[0;31mIndexError\u001b[0m                                Traceback (most recent call last)",
            "\u001b[0;32m<ipython-input-31-435175d277ba>\u001b[0m in \u001b[0;36m<cell line: 1>\u001b[0;34m()\u001b[0m\n\u001b[0;32m----> 1\u001b[0;31m \u001b[0mlocations\u001b[0m\u001b[0;34m[\u001b[0m\u001b[0;36m4\u001b[0m\u001b[0;34m]\u001b[0m\u001b[0;34m\u001b[0m\u001b[0;34m\u001b[0m\u001b[0m\n\u001b[0m",
            "\u001b[0;31mIndexError\u001b[0m: list index out of range"
          ]
        }
      ]
    },
    {
      "cell_type": "markdown",
      "source": [
        "**Tip**: You can use negative indexing to access list items in reverse. So `mylist[-1]` will return the last item in the list. `mylist[-2]` will return the 2nd to last item and so on."
      ],
      "metadata": {
        "id": "pGqBZWr4wRqj"
      }
    },
    {
      "cell_type": "markdown",
      "source": [
        "<br>\n",
        "\n",
        "### 3.2 **Modifying List Items**\n",
        "\n",
        "You can change the value of a list item by accessing it through its index:"
      ],
      "metadata": {
        "id": "5R-7rsM0wOkp"
      }
    },
    {
      "cell_type": "code",
      "source": [
        "# Changing the second location\n",
        "locations[1] = \"Bridgend\"\n",
        "print(\"Updated locations:\", locations)"
      ],
      "metadata": {
        "colab": {
          "base_uri": "https://localhost:8080/"
        },
        "id": "toWkHWLLv-Ej",
        "outputId": "d1ebd06a-7235-4536-aced-71b7727768e3"
      },
      "execution_count": 32,
      "outputs": [
        {
          "output_type": "stream",
          "name": "stdout",
          "text": [
            "Updated locations: ['Swansea', 'Bridgend', 'Newport', 'Wrexham']\n"
          ]
        }
      ]
    },
    {
      "cell_type": "markdown",
      "source": [
        "<br>\n",
        "\n",
        "### 3.3 **Adding and Removing Items**\n",
        "\n",
        "Items can be added to the end of a list using the **`.append()`** method, and removed using the **`.remove()`** method:"
      ],
      "metadata": {
        "id": "WC2VBUgUxHNG"
      }
    },
    {
      "cell_type": "code",
      "source": [
        "# Adding a new location\n",
        "locations.append(\"Aberystwyth\")\n",
        "print(\"Locations with Aberystwyth:\", locations)\n",
        "\n",
        "# Removing a location\n",
        "locations.remove(\"Swansea\")\n",
        "print(\"Locations after removing Swansea:\", locations)"
      ],
      "metadata": {
        "colab": {
          "base_uri": "https://localhost:8080/"
        },
        "id": "1lvSTnSWxI8d",
        "outputId": "82e9cbeb-1379-43c0-dfdb-f95a1cd72bdf"
      },
      "execution_count": 33,
      "outputs": [
        {
          "output_type": "stream",
          "name": "stdout",
          "text": [
            "Locations with Aberystwyth: ['Swansea', 'Bridgend', 'Newport', 'Wrexham', 'Aberystwyth']\n",
            "Locations after removing Swansea: ['Bridgend', 'Newport', 'Wrexham', 'Aberystwyth']\n"
          ]
        }
      ]
    },
    {
      "cell_type": "markdown",
      "source": [
        "\n",
        "**Tip**: Python has lots of built-in operations you can use with lists:\n",
        "- [Python built-in functions](https://www.w3schools.com/python/python_ref_functions.asp)\n",
        "- [Python list methods](https://www.w3schools.com/python/python_ref_list.asp)"
      ],
      "metadata": {
        "id": "FoYi5Lgd1dc9"
      }
    },
    {
      "cell_type": "markdown",
      "source": [
        "<br>\n",
        "\n",
        "### 3.4 **Combining lists**\n",
        "\n",
        "Two lists can be added together to combine them into one list. Lists respond to the \"+\" and \"*\" operators, much like strings and numbers."
      ],
      "metadata": {
        "id": "-muphrt32D0T"
      }
    },
    {
      "cell_type": "code",
      "source": [
        "list1 = [4, 5, 6]\n",
        "list2 = ['a', 'b', 'c']\n",
        "\n",
        "new_list = list1 + list2    # Combining list1 and list2 into new_list\n",
        "print(new_list)"
      ],
      "metadata": {
        "colab": {
          "base_uri": "https://localhost:8080/"
        },
        "id": "5lzZ8PEl2X1L",
        "outputId": "6c47da7b-2aac-4285-cc65-c06de6778f0e"
      },
      "execution_count": 35,
      "outputs": [
        {
          "output_type": "stream",
          "name": "stdout",
          "text": [
            "[4, 5, 6, 'a', 'b', 'c']\n"
          ]
        }
      ]
    },
    {
      "cell_type": "markdown",
      "source": [
        "<br>\n",
        "\n",
        "### <font color='Green'><strong>List Exercises: </strong></font>\n",
        "\n",
        "Try completing these exercises on lists."
      ],
      "metadata": {
        "id": "Wpo5s70fx6DJ"
      }
    },
    {
      "cell_type": "markdown",
      "source": [
        "**EX 1** Try adding a city name to the `locations` list and then remove \"Newport\". Print the list before and after to check the result."
      ],
      "metadata": {
        "id": "jjOKq51sx3BT"
      }
    },
    {
      "cell_type": "code",
      "source": [
        "### 1. Add Solution Here ###\n",
        "\n"
      ],
      "metadata": {
        "colab": {
          "base_uri": "https://localhost:8080/"
        },
        "id": "DUOv8Fs5yMgj",
        "outputId": "d4af47d2-eb31-40dd-d662-353b207f8be1"
      },
      "execution_count": 36,
      "outputs": [
        {
          "output_type": "execute_result",
          "data": {
            "text/plain": [
              "['Bridgend', 'Newport', 'Wrexham', 'Aberystwyth']"
            ]
          },
          "metadata": {},
          "execution_count": 36
        }
      ]
    },
    {
      "cell_type": "markdown",
      "source": [
        "**EX 2**  Find the number of items in the `locations` list. Hint: check the linked resources above.\n",
        "\n"
      ],
      "metadata": {
        "id": "tadBnUtjxc_N"
      }
    },
    {
      "cell_type": "code",
      "source": [
        "### 2. Add Solution Here ###"
      ],
      "metadata": {
        "id": "W01JOLO-xkyq"
      },
      "execution_count": 37,
      "outputs": []
    },
    {
      "cell_type": "markdown",
      "source": [
        "**EX 3**  Define a list of only numeric (i.e. type integer or float) values. Then find the sum of all the numbers in that list.\n",
        "\n",
        "Hint. check the linked resources above."
      ],
      "metadata": {
        "id": "iFM1p-QQ4mMy"
      }
    },
    {
      "cell_type": "code",
      "source": [
        "### 3. Add Solution Here ###\n",
        "\n",
        "mylist ="
      ],
      "metadata": {
        "id": "LWmPMq3p4l5n"
      },
      "execution_count": null,
      "outputs": []
    },
    {
      "cell_type": "markdown",
      "source": [
        "**EX 4** (optional) Given the following lists:"
      ],
      "metadata": {
        "id": "I4dcPZAp5gzw"
      }
    },
    {
      "cell_type": "code",
      "source": [
        "device1 = ['iPhone 16', 999]\n",
        "device2 = ['Galaxy S22', 949]\n",
        "device3 = ['Pixel 3', 699]"
      ],
      "metadata": {
        "id": "kwCBIAqP5xDM"
      },
      "execution_count": null,
      "outputs": []
    },
    {
      "cell_type": "markdown",
      "source": [
        "- Add a colour to each of the devices.\n",
        "- The Galaxy S22 has been updated to the S24, change its name.\n",
        "- Combine all the devices into a list.\n",
        "\n",
        "**Example expected output:** [['iPhone 16', 999, 'Grey'], ['Galaxy S24', 949, 'Black'], ['Pixel 3', 699, 'White']]"
      ],
      "metadata": {
        "id": "R-QO6bux6NR4"
      }
    },
    {
      "cell_type": "code",
      "source": [
        "### 4. Add Solution Here ###\n"
      ],
      "metadata": {
        "id": "-qN4DL7P6kWf"
      },
      "execution_count": 38,
      "outputs": []
    },
    {
      "cell_type": "markdown",
      "source": [
        "<br>\n",
        "\n",
        "---"
      ],
      "metadata": {
        "id": "IMWJ8Tua21A1"
      }
    },
    {
      "cell_type": "markdown",
      "source": [
        "<br>\n",
        "<br>\n",
        "\n",
        "## 4. Dictionaries\n",
        "\n",
        "! **IMPORTANT** !\n",
        "\n",
        "#### Dictionaries: Python's Equivalent to JSON\n",
        "\n",
        "In Python, dictionaries (`dict`) are a collection of key-value pairs, just like JSON (JavaScript Object Notation). Vega-Lite, as well as many APIs, use JSON syntax, so understanding how to work with dictionaries in Python will be extremely useful. In fact, JSON objects are essentially the same as Python dictionaries, making it easy to convert between the two."
      ],
      "metadata": {
        "id": "T0egXHQ22-J0"
      }
    },
    {
      "cell_type": "markdown",
      "source": [
        "### 4.1 **What is a Dictionary?**\n",
        "\n",
        "A dictionary is a data type that stores items as key-value pairs. Each key is unique, and you use the key to access its associated value."
      ],
      "metadata": {
        "id": "QzIcbWst_PiG"
      }
    },
    {
      "cell_type": "code",
      "source": [
        "# Example of a dictionary\n",
        "person = {\n",
        "    \"name\": \"Alice\",\n",
        "    \"age\": 30,\n",
        "    \"city\": \"Newport\"\n",
        "}\n",
        "\n",
        "print(person)"
      ],
      "metadata": {
        "colab": {
          "base_uri": "https://localhost:8080/"
        },
        "id": "HtPWeNTS21Pt",
        "outputId": "9f9f0fca-41e7-4093-e860-0e764c829e46"
      },
      "execution_count": 2,
      "outputs": [
        {
          "output_type": "stream",
          "name": "stdout",
          "text": [
            "{'name': 'Alice', 'age': 30, 'city': 'Newport'}\n"
          ]
        }
      ]
    },
    {
      "cell_type": "markdown",
      "source": [
        "Here, \"name\", \"age\", and \"city\" are the keys, and \"Alice\", 30, and \"Newport\" are the corresponding values."
      ],
      "metadata": {
        "id": "3Snf5ThbBw4K"
      }
    },
    {
      "cell_type": "markdown",
      "source": [
        "<br>\n",
        "\n",
        "### 4.2 **Accessing Dictionary Values**\n",
        "\n",
        "To retrieve a value from a dictionary, you use the key associated with it."
      ],
      "metadata": {
        "id": "Oiu1wBOuBzyc"
      }
    },
    {
      "cell_type": "code",
      "source": [
        "# Accessing values\n",
        "print(person[\"name\"])  # Outputs: Alice\n",
        "print(person[\"age\"])   # Outputs: 30"
      ],
      "metadata": {
        "colab": {
          "base_uri": "https://localhost:8080/"
        },
        "id": "1AB3rWSsB6j2",
        "outputId": "feb00882-921a-49ce-be2e-814b498c4414"
      },
      "execution_count": 3,
      "outputs": [
        {
          "output_type": "stream",
          "name": "stdout",
          "text": [
            "Alice\n",
            "30\n"
          ]
        }
      ]
    },
    {
      "cell_type": "markdown",
      "source": [
        "TODO: Test what happens when you try to access a key that doesn't exist."
      ],
      "metadata": {
        "id": "nC1GYFW3CDZO"
      }
    },
    {
      "cell_type": "code",
      "source": [
        "### Add code here ###\n"
      ],
      "metadata": {
        "id": "j8z1w9xICIkl"
      },
      "execution_count": null,
      "outputs": []
    },
    {
      "cell_type": "markdown",
      "source": [
        "If you try to access a key that doesn't exist, Python will raise a KeyError. To avoid this, you can use the .get() method."
      ],
      "metadata": {
        "id": "3g_s_REFB_vC"
      }
    },
    {
      "cell_type": "code",
      "source": [
        "# Using .get() to avoid errors\n",
        "person.get(\"job\")   # 'job' doesn't exist, so by default nothing is returned."
      ],
      "metadata": {
        "id": "XnDHAd8MCVYW"
      },
      "execution_count": 4,
      "outputs": []
    },
    {
      "cell_type": "markdown",
      "source": [
        "When using the .get() method, we can customised the default value that is returned if the key is missing."
      ],
      "metadata": {
        "id": "EHs-dJ4pCct9"
      }
    },
    {
      "cell_type": "code",
      "source": [
        "print(person.get(\"job\", \"No job information\"))  # Outputs: No job information"
      ],
      "metadata": {
        "colab": {
          "base_uri": "https://localhost:8080/"
        },
        "id": "S5-vb60aB-kl",
        "outputId": "7428c986-fba1-477d-81f5-87385755a6ec"
      },
      "execution_count": 5,
      "outputs": [
        {
          "output_type": "stream",
          "name": "stdout",
          "text": [
            "No job information\n"
          ]
        }
      ]
    },
    {
      "cell_type": "markdown",
      "source": [
        "<br>\n",
        "\n",
        "### 4.3 **Dictionary Methods**\n",
        "\n",
        "Dictionaries have several useful methods that allow you to work with them efficiently. Just like with lists, we can use call these methods on any dictionary variable that we have defined and stored in the memory. Here are a few useful ones:\n",
        "\n",
        "- `.keys()`: Returns a view object containing all the keys.\n",
        "- `.values()`: Returns a view object containing all the values.\n",
        "- `.items()`: Returns key-value pairs as tuples.\n",
        "\n",
        "**Hint:** More built-in [dictionary methods](https://www.w3schools.com/python/python_ref_dictionary.asp)."
      ],
      "metadata": {
        "id": "G9d1K_BZC34J"
      }
    },
    {
      "cell_type": "code",
      "source": [
        "# Getting all keys and values\n",
        "print(person.keys())    # Outputs: dict_keys(['name', 'age', 'city'])\n",
        "print(person.values())  # Outputs: dict_values(['Alice', 30, 'Newport'])"
      ],
      "metadata": {
        "colab": {
          "base_uri": "https://localhost:8080/"
        },
        "id": "l4rp8eGSDAiK",
        "outputId": "dc826b1b-d101-4733-ea8e-a577b3493fcd"
      },
      "execution_count": 6,
      "outputs": [
        {
          "output_type": "stream",
          "name": "stdout",
          "text": [
            "dict_keys(['name', 'age', 'city'])\n",
            "dict_values(['Alice', 30, 'Newport'])\n"
          ]
        }
      ]
    },
    {
      "cell_type": "code",
      "source": [
        "person.items()"
      ],
      "metadata": {
        "colab": {
          "base_uri": "https://localhost:8080/"
        },
        "id": "KHLZgmNkDKAE",
        "outputId": "953e0454-5e67-4bef-faff-19b34410ffaa"
      },
      "execution_count": 9,
      "outputs": [
        {
          "output_type": "execute_result",
          "data": {
            "text/plain": [
              "dict_items([('name', 'Alice'), ('age', 30), ('city', 'Newport')])"
            ]
          },
          "metadata": {},
          "execution_count": 9
        }
      ]
    },
    {
      "cell_type": "markdown",
      "source": [
        "<br>\n",
        "\n",
        "### 4.4 **Modifying Dictionaries**\n",
        "\n",
        "You can add new key-value pairs to a dictionary, just as easily as you assign values to regular variables. You can also update existing key-value pairs by accessing the key and assigning a new value to it."
      ],
      "metadata": {
        "id": "SdPAy_kIDr43"
      }
    },
    {
      "cell_type": "code",
      "source": [
        "# Show the current `person` dictionary.\n",
        "print(person)"
      ],
      "metadata": {
        "colab": {
          "base_uri": "https://localhost:8080/"
        },
        "id": "rFBW5zyfFEpc",
        "outputId": "133e9670-378c-4f9e-da70-fafbee3de9c9"
      },
      "execution_count": 11,
      "outputs": [
        {
          "output_type": "stream",
          "name": "stdout",
          "text": [
            "{'name': 'Alice', 'age': 30, 'city': 'Newport'}\n"
          ]
        }
      ]
    },
    {
      "cell_type": "code",
      "source": [
        "# Adding a new key-value pair\n",
        "person[\"job\"] = \"Data Scientist\"\n",
        "print(person)"
      ],
      "metadata": {
        "colab": {
          "base_uri": "https://localhost:8080/"
        },
        "id": "vYOHE5SgDwA7",
        "outputId": "c1a0a900-0c9c-4781-a07d-1d8a1f626558"
      },
      "execution_count": 15,
      "outputs": [
        {
          "output_type": "stream",
          "name": "stdout",
          "text": [
            "{'name': 'Alice', 'age': 31, 'city': 'Newport', 'job': 'Data Scientist'}\n"
          ]
        }
      ]
    },
    {
      "cell_type": "markdown",
      "source": [
        "Just like assigning any other variable, we reference the dictionary by its name (person) and specify the key we want to add (\"job\"). Then, we assign a value (\"Data Scientist\") to that key. If the key doesn't exist, it will be created."
      ],
      "metadata": {
        "id": "2BGDA5zQGiFe"
      }
    },
    {
      "cell_type": "code",
      "source": [
        "# Updating an existing value\n",
        "person[\"age\"] = 31\n",
        "print(person)"
      ],
      "metadata": {
        "colab": {
          "base_uri": "https://localhost:8080/"
        },
        "id": "wABympDaFnsA",
        "outputId": "773deb8e-41be-4d2c-f1df-195b52deef0c"
      },
      "execution_count": 16,
      "outputs": [
        {
          "output_type": "stream",
          "name": "stdout",
          "text": [
            "{'name': 'Alice', 'age': 31, 'city': 'Newport', 'job': 'Data Scientist'}\n"
          ]
        }
      ]
    },
    {
      "cell_type": "markdown",
      "source": [
        "To update a value, we reference the dictionary and the existing key (\"age\") and assign it a new value (31). The original value (30) is overwritten with the new one.\n",
        "\n",
        "**Note**: The syntax for both adding and updating key-value pairs is the same. The difference is that if the key already exists, the value will be updated; if the key doesn't exist, a new key-value pair will be added."
      ],
      "metadata": {
        "id": "ISnIvc-iIIGC"
      }
    },
    {
      "cell_type": "markdown",
      "source": [
        "<br>\n",
        "\n",
        "### 4.5 **Saving a Dictionary as a JSON File**\n",
        "\n",
        "Since Python dictionaries can easily be converted to JSON format, we can save them to a file using the `json` package. This will allow us to explore, edit, and export JSON data, which could then be used as a data source in our Vega-Lite charts.\n",
        "\n",
        "This will be the first time we've encountered a Python package in this notebook, so let's take a moment to understand what they are and why they're useful."
      ],
      "metadata": {
        "id": "jxIF3lZeIalz"
      }
    },
    {
      "cell_type": "markdown",
      "source": [
        "> **What are Python Packages?**\n",
        ">\n",
        ">\n",
        "> A Python package is a collection of pre-written code that adds extra functionality to your Python programs. By using packages, you can avoid writing everything from scratch and leverage existing solutions to common problems.\n",
        ">\n",
        "> Think of a package as a toolkit that contains useful tools (functions and classes) that extend the basic capabilities of Python.\n",
        ">\n",
        "> **How Do We Use Python Packages?**\n",
        ">\n",
        "> In Python, you import a package using the `import` statement, which gives you access to its tools.\n",
        ">\n",
        "> For example, we'll use the `json` package to work with JSON data. By importing `json`, we can easily save dictionaries as JSON files and read them back into Python.\n",
        ">\n",
        "> **Built-in vs. External Packages**\n",
        ">\n",
        "> Some packages, like `json`, are built into Python. You don't need to install these; they come with Python by default. However, there are many useful packages that are not built-in. These need to be installed before you can use them.\n",
        ">\n",
        "> In this notebook, we will only use built-in packages, such as json. In future notebooks, you'll encounter other Python packages that are not built-in and will need to be installed first (typically using a tool called `pip`—Python's package manager, which we'll see later).\n",
        ">\n",
        "> **Analogy with JavaScript**:\n",
        "> You've already seen how we can use JavaScript libraries in our HTML files by including a `<script>` tag in the `<head>` section to load an external library like Vega-Lite:\n",
        ">\n",
        "> ```html\n",
        "> <script src=\"https://cdn.jsdelivr.net/npm/vega-lite@5\"></script>\n",
        "> ```\n",
        ">\n",
        "> This is similar to how Python packages work. Just like how the `<script>` tag gives your HTML access to Vega-Lite’s charting functionality, `import json` gives your Python code access to JSON handling functions.\n",
        ">\n",
        "\n"
      ],
      "metadata": {
        "id": "htoafXptJ5eK"
      }
    },
    {
      "cell_type": "markdown",
      "source": [
        "...back to code\n",
        "\n",
        "To save a dictionary as a JSON file, we use the `json` package and a special Python construct called with `open(...)`. Let's break down how this works."
      ],
      "metadata": {
        "id": "nE4uBYvONlJD"
      }
    },
    {
      "cell_type": "code",
      "source": [
        "import json\n",
        "\n",
        "# Saving the dictionary as a JSON file\n",
        "with open(\"person.json\", \"w\") as file:\n",
        "    json.dump(person, file)"
      ],
      "metadata": {
        "id": "sarhRwHoNk4u"
      },
      "execution_count": 18,
      "outputs": []
    },
    {
      "cell_type": "markdown",
      "source": [
        "1. `with open(\"person.json\", \"w\") as file:`\n",
        "  - The `open()` function is used to open a file. It takes two arguments:\n",
        "    - The **filename** (`\"person.json\"`) specifies the name of the file we want to write to.\n",
        "    - The **mode** (`\"w\"`) stands for \"write mode.\" This means we are opening the file to write data to it. If the file doesn't exist, Python will create it. If the file already exists, its contents will be overwritten.\n",
        "  - Using `with` ensures that the file is properly opened and closed automatically, even if an error occurs.\n",
        "\n",
        "2. `json.dump(person, file)`\n",
        "  - The `json.dump()` function writes the contents of the `person` dictionary to the file, converting the dictionary into a JSON-formatted string.\n",
        "  - The first argument is the dictionary we want to save (`person`), and the second argument is the file object where the data should be written."
      ],
      "metadata": {
        "id": "8v14pe0xOM0D"
      }
    },
    {
      "cell_type": "markdown",
      "source": [
        "Now, check the files tab to the side of our code editor and we should our `person.json` file saved there. We could then download that to our local machine."
      ],
      "metadata": {
        "id": "YyVA4hDgPUj1"
      }
    },
    {
      "cell_type": "markdown",
      "source": [
        "<br>\n",
        "\n",
        "### 4.6 **Reading a JSON File into a Dictionary**\n",
        "\n",
        "To read a JSON file into a Python dictionary, use the `json.load()` method. Let's load in the JSON data we just saved."
      ],
      "metadata": {
        "id": "tqFZzL-LOyf4"
      }
    },
    {
      "cell_type": "code",
      "source": [
        "# Reading a JSON file into a dictionary\n",
        "with open(\"person.json\", \"r\") as file:    # We're now using \"r\" to specify 'read' mode.\n",
        "    person_from_json = json.load(file)\n",
        "\n",
        "print(person_from_json)"
      ],
      "metadata": {
        "colab": {
          "base_uri": "https://localhost:8080/"
        },
        "id": "a7nxc-oEO3lt",
        "outputId": "586b6863-4150-44a8-9e6b-ee74ac238fda"
      },
      "execution_count": 19,
      "outputs": [
        {
          "output_type": "stream",
          "name": "stdout",
          "text": [
            "{'name': 'Alice', 'age': 31, 'city': 'Newport', 'job': 'Data Scientist'}\n"
          ]
        }
      ]
    },
    {
      "cell_type": "markdown",
      "source": [
        "So, using this we can load any JSON data we've saved into Python, reading for analysis, cleaning etc."
      ],
      "metadata": {
        "id": "v0JAs-xAO-Um"
      }
    },
    {
      "cell_type": "markdown",
      "source": [
        "<br>\n",
        "\n",
        "### 4.7 **Nested Dictionaries**\n",
        "\n",
        "Dictionaries can contain other dictionaries as values, creating a nested structure. This is particularly useful when dealing with complex data, such as hierarchical structures in JSON (which is commonly used by APIs and Vega-Lite specifications)."
      ],
      "metadata": {
        "id": "u6hpOvdBPx_b"
      }
    },
    {
      "cell_type": "markdown",
      "source": [
        "#### 4.7.1 Creating a Nested Dictionary\n",
        "\n",
        "A nested dictionary is simply a dictionary where one or more of the values is another dictionary."
      ],
      "metadata": {
        "id": "UFToMuwpR8kA"
      }
    },
    {
      "cell_type": "code",
      "source": [
        "person = {\n",
        "    'name': 'John',\n",
        "    'age': 30,\n",
        "    'address': {'street': '123 Main St', 'city': 'Anytown'}\n",
        "}\n",
        "print(person)"
      ],
      "metadata": {
        "colab": {
          "base_uri": "https://localhost:8080/"
        },
        "id": "YiduWmCiTIvh",
        "outputId": "d6d3b044-3108-4191-8fa3-bcac0dd4aefa"
      },
      "execution_count": 20,
      "outputs": [
        {
          "output_type": "stream",
          "name": "stdout",
          "text": [
            "{'name': 'John', 'age': 30, 'address': {'street': '123 Main St', 'city': 'Anytown'}}\n"
          ]
        }
      ]
    },
    {
      "cell_type": "markdown",
      "source": [
        "**Tip**: We can use the `json.dumps()` method with an `indent` parameter to print our dictionary with nice formatting."
      ],
      "metadata": {
        "id": "BfPccHS8T6hc"
      }
    },
    {
      "cell_type": "code",
      "source": [
        "print(json.dumps(person, indent=4))"
      ],
      "metadata": {
        "colab": {
          "base_uri": "https://localhost:8080/"
        },
        "id": "Ewra2tlLTzdP",
        "outputId": "9a9eb33b-f862-4ddd-e27b-8821127aa494"
      },
      "execution_count": 23,
      "outputs": [
        {
          "output_type": "stream",
          "name": "stdout",
          "text": [
            "{\n",
            "    \"name\": \"John\",\n",
            "    \"age\": 30,\n",
            "    \"address\": {\n",
            "        \"street\": \"123 Main St\",\n",
            "        \"city\": \"Anytown\"\n",
            "    }\n",
            "}\n"
          ]
        }
      ]
    },
    {
      "cell_type": "markdown",
      "source": [
        "Here's an example representing a simple Vega-Lite chart configuration:"
      ],
      "metadata": {
        "id": "huSE7rsQTJIA"
      }
    },
    {
      "cell_type": "code",
      "source": [
        "\n",
        "# Example of a nested dictionary for a Vega-Lite chart\n",
        "vega_lite_chart = {\n",
        "    \"$schema\": \"https://vega.github.io/schema/vega-lite/v5.json\",\n",
        "    \"data\": {\n",
        "        \"values\": [\n",
        "          {\"a\": \"A\", \"b\": 28}, {\"a\": \"B\", \"b\": 55}, {\"a\": \"C\", \"b\": 43}\n",
        "        ]\n",
        "    },\n",
        "    \"mark\": {\n",
        "        \"type\": \"bar\"\n",
        "    },\n",
        "    \"encoding\": {\n",
        "        \"x\": {\"field\": \"a\", \"type\": \"nominal\", \"axis\": {\"labelAngle\": 0}},\n",
        "        \"y\": {\"field\": \"b\", \"type\": \"quantitative\"}\n",
        "    }\n",
        "}\n",
        "\n",
        "print(vega_lite_chart)"
      ],
      "metadata": {
        "colab": {
          "base_uri": "https://localhost:8080/"
        },
        "id": "7nWyd1gnUTYs",
        "outputId": "abf66d39-afc1-4752-c9da-a17a4e188759"
      },
      "execution_count": 1,
      "outputs": [
        {
          "output_type": "stream",
          "name": "stdout",
          "text": [
            "{'$schema': 'https://vega.github.io/schema/vega-lite/v5.json', 'data': {'values': [{'a': 'A', 'b': 28}, {'a': 'B', 'b': 55}, {'a': 'C', 'b': 43}]}, 'mark': {'type': 'bar'}, 'encoding': {'x': {'field': 'a', 'type': 'nominal', 'axis': {'labelAngle': 0}}, 'y': {'field': 'b', 'type': 'quantitative'}}}\n"
          ]
        }
      ]
    },
    {
      "cell_type": "markdown",
      "source": [
        "In this example, the data and encoding keys both contain nested dictionaries. Values in a dictionary can also be lists (i.e. arrays), which allows us to define data in-line with a list of dictionaries.\n",
        "\n",
        "This structure mirrors the typical format of Vega-Lite specifications, where different parts of the chart (data, encoding, mark, etc.) are organised into separate nested dictionaries."
      ],
      "metadata": {
        "id": "eMJ7yuBPUshB"
      }
    },
    {
      "cell_type": "markdown",
      "source": [
        "#### 4.7.2 Accessing Nested Dictionary Values\n",
        "\n",
        "To access values in a nested dictionary, you chain the keys together. For example, to access the `field` value of the x-axis in the `encoding` dictionary:"
      ],
      "metadata": {
        "id": "JR-C-pA7VFZs"
      }
    },
    {
      "cell_type": "code",
      "source": [
        "# Accessing a nested value\n",
        "x_field = vega_lite_chart[\"encoding\"][\"x\"][\"field\"]\n",
        "print(x_field)  # Outputs: a"
      ],
      "metadata": {
        "colab": {
          "base_uri": "https://localhost:8080/"
        },
        "id": "-C8JukkuVI9A",
        "outputId": "25aa32be-dca7-4174-cd46-e72ae460063f"
      },
      "execution_count": 27,
      "outputs": [
        {
          "output_type": "stream",
          "name": "stdout",
          "text": [
            "a\n"
          ]
        }
      ]
    },
    {
      "cell_type": "markdown",
      "source": [
        "This retrieves the \"field\" value under \"x\" in the \"encoding\" dictionary. You can keep chaining keys to access deeper levels of nesting."
      ],
      "metadata": {
        "id": "5me-t0JeVKkq"
      }
    },
    {
      "cell_type": "markdown",
      "source": [
        "#### 4.7.3 Modifying Nested Dictionary Values\n",
        "\n",
        "You can also update values in a nested dictionary using a similar approach. For example, to change the chart type in the mark section:"
      ],
      "metadata": {
        "id": "4ASgQoSjnLvK"
      }
    },
    {
      "cell_type": "code",
      "source": [
        "# Adding a new key-value pair inside the \"mark\" dictionary\n",
        "vega_lite_chart[\"mark\"][\"type\"] = \"line\"\n",
        "print(vega_lite_chart)"
      ],
      "metadata": {
        "colab": {
          "base_uri": "https://localhost:8080/"
        },
        "id": "EflheNVDnfmu",
        "outputId": "caceb3b3-6a43-49d4-bbfd-1ddcaf4d0df0"
      },
      "execution_count": 2,
      "outputs": [
        {
          "output_type": "stream",
          "name": "stdout",
          "text": [
            "{'$schema': 'https://vega.github.io/schema/vega-lite/v5.json', 'data': {'values': [{'a': 'A', 'b': 28}, {'a': 'B', 'b': 55}, {'a': 'C', 'b': 43}]}, 'mark': {'type': 'line'}, 'encoding': {'x': {'field': 'a', 'type': 'nominal', 'axis': {'labelAngle': 0}}, 'y': {'field': 'b', 'type': 'quantitative'}}}\n"
          ]
        }
      ]
    },
    {
      "cell_type": "markdown",
      "source": [
        "#### 4.7.4 Adding & Removing Nested Entries\n",
        "\n",
        "Just like with regular dictionaries, you can add new key-value pairs inside nested dictionaries."
      ],
      "metadata": {
        "id": "ezhvcKsdndha"
      }
    },
    {
      "cell_type": "code",
      "source": [
        "# Adding a new key-value pair inside the \"encoding\" dictionary\n",
        "vega_lite_chart[\"encoding\"][\"color\"] = {\"field\": \"region\", \"type\": \"nominal\"}\n",
        "print(vega_lite_chart)"
      ],
      "metadata": {
        "colab": {
          "base_uri": "https://localhost:8080/"
        },
        "id": "k79nNPr-n_nr",
        "outputId": "bf77ba19-b7ba-4403-a5c5-e41444c74b00"
      },
      "execution_count": 3,
      "outputs": [
        {
          "output_type": "stream",
          "name": "stdout",
          "text": [
            "{'$schema': 'https://vega.github.io/schema/vega-lite/v5.json', 'data': {'values': [{'a': 'A', 'b': 28}, {'a': 'B', 'b': 55}, {'a': 'C', 'b': 43}]}, 'mark': {'type': 'line'}, 'encoding': {'x': {'field': 'a', 'type': 'nominal', 'axis': {'labelAngle': 0}}, 'y': {'field': 'b', 'type': 'quantitative'}, 'color': {'field': 'region', 'type': 'nominal'}}}\n"
          ]
        }
      ]
    },
    {
      "cell_type": "markdown",
      "source": [
        "<br>\n",
        "\n",
        "### <font color='Green'><strong>Dictionary Exercises: </strong></font>\n",
        "\n",
        "Try completing these exercises on dictionaries."
      ],
      "metadata": {
        "id": "mEBVqsqHPuDM"
      }
    },
    {
      "cell_type": "markdown",
      "source": [
        "### Exercise:\n",
        "\n",
        "1. Create a dictionary that represents a simple Vega-Lite chart configuration (e.g., a bar chart with a title and a few fields like `x`, `y`, `data`, etc.). Make sure to include some data values.\n",
        "\n",
        "2. Save this dictionary as a JSON file, then read it back in and print the content to verify.\n",
        "\n",
        "3. Copy the code into the online vega editor - does it produce a chart?"
      ],
      "metadata": {
        "id": "HEpcOmyjpFOI"
      }
    },
    {
      "cell_type": "markdown",
      "source": [
        "<br>\n",
        "<br>\n",
        "\n",
        "---"
      ],
      "metadata": {
        "id": "SBjOj9DJ4w7n"
      }
    },
    {
      "cell_type": "markdown",
      "source": [
        "## Bonus challenge"
      ],
      "metadata": {
        "id": "NX8wfVRW4xfT"
      }
    },
    {
      "cell_type": "markdown",
      "source": [
        "**Bonus EX1** Python notebooks are made up of **text** cells and **code** cells. These **text** cells use `markdown` syntax.\n",
        "\n",
        "- Explain some basics on how markdown works, and how we can use markdown syntax or even HTML to style our cells.\n",
        "- When you created your GitHub repositories, you should have also created an empty `README.md` file. (Tip: '.md' is the file extension for markdown files, just like '.json' is for JSON type files.)\n",
        "- Go to your GitHub repositories and edit this README.md to add some description about your portfolio and project.\n",
        "\n",
        "**Hint**: Check out this [markdown cheatsheet](https://www.markdownguide.org/cheat-sheet/) to find out how to style markdown text."
      ],
      "metadata": {
        "id": "pj4eDcyb_zTh"
      }
    },
    {
      "cell_type": "code",
      "source": [],
      "metadata": {
        "id": "5RtV9VOd4xMu"
      },
      "execution_count": null,
      "outputs": []
    }
  ]
}