{
  "nbformat": 4,
  "nbformat_minor": 0,
  "metadata": {
    "colab": {
      "name": "firstScraper.ipynb",
      "provenance": [],
      "collapsed_sections": [],
      "include_colab_link": true
    },
    "kernelspec": {
      "name": "python3",
      "display_name": "Python 3"
    },
    "language_info": {
      "name": "python"
    }
  },
  "cells": [
    {
      "cell_type": "markdown",
      "metadata": {
        "id": "view-in-github",
        "colab_type": "text"
      },
      "source": [
        "<a href=\"https://colab.research.google.com/github/RDeconomist/classes/blob/main/dataScience/DS4_Scraper3.ipynb\" target=\"_parent\"><img src=\"https://colab.research.google.com/assets/colab-badge.svg\" alt=\"Open In Colab\"/></a>"
      ]
    },
    {
      "cell_type": "markdown",
      "metadata": {
        "id": "MVfixlVBK5we"
      },
      "source": [
        "**Data Science - web scraper 3**\n",
        "\n",
        "Aim of the file:\n",
        "\n",
        "1.   Scrape multiple sites with a similar URL.\n",
        "2.   Do this efficiently by running a loop over an array.\n",
        "3.   Collect togeter the results."
      ]
    },
    {
      "cell_type": "code",
      "metadata": {
        "id": "r-JSinApK49d"
      },
      "source": [
        "# // 1.  Import packages that we need:\n",
        "import numpy as np\n",
        "import pandas as pd\n",
        "# // Web scraping: \n",
        "import requests\n",
        "import string\n",
        "from bs4 import BeautifulSoup\n",
        "# // OS. Sometimes need this for finding working directory:\n",
        "import os\n",
        "# ////////////////////////////////////////////////////////////////"
      ],
      "execution_count": 2,
      "outputs": []
    },
    {
      "cell_type": "markdown",
      "metadata": {
        "id": "YH5WjG6IPVr7"
      },
      "source": [
        "Introduction: using a base URL and injecting a series of stock tickers into it."
      ]
    },
    {
      "cell_type": "code",
      "metadata": {
        "id": "Vh8EIq2_PVXs",
        "outputId": "5e8766b2-5a2c-495f-e3cf-386cabe4c026",
        "colab": {
          "base_uri": "https://localhost:8080/"
        }
      },
      "source": [
        "# // Set the base URL: \n",
        "url_base = \"https://www.google.com/finance/quote/{}:LON\"\n",
        "\n",
        "# // Add an array of tickers, for major UK banks: \n",
        "tickers = ['LLOY', 'NWG', 'BARC', 'HSBA', 'STAN', 'VMUK']\n",
        "\n",
        "# // Create an empty array that we are going to fill, base it on the length of the tickers array\n",
        "length = len(tickers)\n",
        "urls = np.empty(length, dtype='S50')\n",
        "\n",
        "# // Loop across this array:\n",
        "for t in tickers:\n",
        "   # // Put the particular ticker into the base URL \n",
        "   stockURL = url_base.format(t)\n",
        "   # // Find the index value of this particular ticker.\n",
        "   i = tickers.index(t)\n",
        "   # // Fill the empty url, at the given index value, with the full url for this ticker\n",
        "   urls[i] = stockURL\n",
        "\n",
        "# // Print out the urls that we have   \n",
        "urls"
      ],
      "execution_count": 4,
      "outputs": [
        {
          "output_type": "execute_result",
          "data": {
            "text/plain": [
              "array([b'https://www.google.com/finance/quote/LLOY:LON',\n",
              "       b'https://www.google.com/finance/quote/NWG:LON',\n",
              "       b'https://www.google.com/finance/quote/BARC:LON',\n",
              "       b'https://www.google.com/finance/quote/HSBA:LON',\n",
              "       b'https://www.google.com/finance/quote/STAN:LON',\n",
              "       b'https://www.google.com/finance/quote/VMUK:LON'], dtype='|S50')"
            ]
          },
          "metadata": {
            "tags": []
          },
          "execution_count": 4
        }
      ]
    },
    {
      "cell_type": "markdown",
      "metadata": {
        "id": "f5wu9mFuSO2e"
      },
      "source": [
        "Using this in a full example:"
      ]
    },
    {
      "cell_type": "code",
      "metadata": {
        "id": "YVCVVxY3SMqu"
      },
      "source": [
        "# // Set the base url:\n",
        "url_base = \"https://www.google.com/finance/quote/{}:LON\"\n",
        "\n",
        "# // Pick the letters that we want to inject into this url:\n",
        "tickers = ['LLOY', 'NWG', 'BARC', 'HSBA', 'STAN', 'VMUK']\n",
        "\n",
        "# // Create an empty array that is going to house the results\n",
        "# // We need to tell Python this array needs to be able to hold objects, hence dtype=object.\n",
        "# // This is becuase we are not going to put just one number, or one piece of string into position in the array\n",
        "# // Rather, each part of this array is going to be an array with the individual scrpaing results:\n",
        "data = np.empty(length, dtype='object')\n",
        "\n",
        "# // Begin a loop, dealing with this tickers one by one:\n",
        "for t in tickers:\n",
        "   \n",
        "   # // Return the index number of the thing we are working with:\n",
        "   s = tickers.index(t)\n",
        "   \n",
        "   # // Build the URL for this iteration of the loop:\n",
        "   URL = url_base.format(t)\n",
        "   \n",
        "   # // Request the html from the URL:\n",
        "   html = requests.get(URL)\n",
        "   \n",
        "   # // Get the soup of this page\n",
        "   soup = BeautifulSoup(html.content, 'html.parser')\n",
        "   \n",
        "   # // Now get what we want from the page: \n",
        "   name = soup.find_all(\"h1\")\n",
        "   price = soup.find_all(\"div\", class_=\"YMlKec fxKbKc\")\n",
        "   ticker = soup.find_all(\"div\", class_=\"COaKTb OTVmSe\")\n",
        "   change = soup.find_all(\"div\", class_=\"JwB6zf\")\n",
        "   \n",
        "   name = name[0].text\n",
        "   price = price[0].text\n",
        "   change = change[0].text\n",
        "   \n",
        "   # // Group together:\n",
        "   results = [t, name, price, change]\n",
        "   \n",
        "   # // Sense check: print out what we have on this point in the loop:\n",
        "   s\n",
        "   t\n",
        "   results\n",
        "\n",
        "   # // Find the index value of this particular ticker.\n",
        "   i = tickers.index(t)\n",
        "   \n",
        "   # // Fill these results in to a master array of results:\n",
        "   # // Fill the empty url, at the given index value, with the full url for this ticker\n",
        "   data[i] = results   "
      ],
      "execution_count": 11,
      "outputs": []
    },
    {
      "cell_type": "markdown",
      "metadata": {
        "id": "GKjtke1Gfxom"
      },
      "source": [
        "Now examine what we have, and how we can retrive various parts of it:"
      ]
    },
    {
      "cell_type": "code",
      "metadata": {
        "id": "nBHqsYyLdUx6",
        "outputId": "572b76a4-53c4-4d0b-c83e-6e8e063fc765",
        "colab": {
          "base_uri": "https://localhost:8080/"
        }
      },
      "source": [
        "data"
      ],
      "execution_count": 13,
      "outputs": [
        {
          "output_type": "execute_result",
          "data": {
            "text/plain": [
              "array([list(['LLOY', 'Lloyds Banking Group PLC', 'GBX\\xa046.24', '0.00%']),\n",
              "       list(['NWG', 'Natwest Group PLC', 'GBX\\xa0213.00', '0.00%']),\n",
              "       list(['BARC', 'Barclays PLC', 'GBX\\xa0181.40', '0.00%']),\n",
              "       list(['HSBA', 'HSBC Holdings plc', 'GBX\\xa0403.95', '0.00%']),\n",
              "       list(['STAN', 'Standard Chartered PLC', 'GBX\\xa0454.20', '0.00%']),\n",
              "       list(['VMUK', 'Virgin Money UK PLC', 'GBX\\xa0200.70', '0.00%'])],\n",
              "      dtype=object)"
            ]
          },
          "metadata": {
            "tags": []
          },
          "execution_count": 13
        }
      ]
    },
    {
      "cell_type": "code",
      "metadata": {
        "id": "pUhqQIFcf3W9",
        "outputId": "fe53dc72-3188-4bca-b9be-ed7f3f198ba8",
        "colab": {
          "base_uri": "https://localhost:8080/"
        }
      },
      "source": [
        "data[1]"
      ],
      "execution_count": 14,
      "outputs": [
        {
          "output_type": "execute_result",
          "data": {
            "text/plain": [
              "['NWG', 'Natwest Group PLC', 'GBX\\xa0213.00', '0.00%']"
            ]
          },
          "metadata": {
            "tags": []
          },
          "execution_count": 14
        }
      ]
    },
    {
      "cell_type": "code",
      "metadata": {
        "id": "fM2k5LZTf3KV",
        "outputId": "dbd11f7f-654e-4e21-f0af-b0738cbad2dd",
        "colab": {
          "base_uri": "https://localhost:8080/",
          "height": 35
        }
      },
      "source": [
        "data[0][2]"
      ],
      "execution_count": 15,
      "outputs": [
        {
          "output_type": "execute_result",
          "data": {
            "application/vnd.google.colaboratory.intrinsic+json": {
              "type": "string"
            },
            "text/plain": [
              "'GBX\\xa046.24'"
            ]
          },
          "metadata": {
            "tags": []
          },
          "execution_count": 15
        }
      ]
    }
  ]
}