{
  "nbformat": 4,
  "nbformat_minor": 0,
  "metadata": {
    "colab": {
      "provenance": []
    },
    "kernelspec": {
      "name": "python3",
      "display_name": "Python 3"
    },
    "language_info": {
      "name": "python"
    }
  },
  "cells": [
    {
      "cell_type": "markdown",
      "source": [
        "**Josh Hellings** - Data Science 2024"
      ],
      "metadata": {
        "id": "LML3JI2IU5EA"
      }
    },
    {
      "cell_type": "markdown",
      "source": [
        "First, let's import the required packages."
      ],
      "metadata": {
        "id": "LTbWOxNMWjaw"
      }
    },
    {
      "cell_type": "code",
      "source": [
        "import requests                     # for making HTTP requests\n",
        "from bs4 import BeautifulSoup       # for parsing HTML"
      ],
      "metadata": {
        "id": "F64d-V_kWjJK"
      },
      "execution_count": null,
      "outputs": []
    },
    {
      "cell_type": "markdown",
      "source": [
        "<a href=\"https://colab.research.google.com/drive/1Vsi8blu9sNcddFkx-ND18vuj7wiGwkl-?usp=sharing\" target=\"_blank\"><img src=\"https://colab.research.google.com/assets/colab-badge.svg\" alt=\"Open In Colab\"/></a>\n",
        "\n",
        "# Web Scraping\n",
        "\n",
        "This notebook introduces web scraping with the `requests` and `BeautifulSoup` modules using some sample HTML, then we will move on a real website.\n",
        "\n",
        "<br>\n",
        "<br>\n",
        "\n",
        "# Part 1. A Basic Example\n",
        "## Searching HTML with `BeautifulSoup`\n",
        "\n",
        "BeautifulSoup is a Python library for parsing HTML documents. We can use it to extract data from HTML fetched from the web but first we'll try it out with a simple HTML example.\n",
        "- **Tip**: After working through this notebook, carry on learning about BeautifulSoup in this [tutorial](https://www.tutorialspoint.com/beautiful_soup/beautiful_soup_overview.htm)."
      ],
      "metadata": {
        "id": "8xxHqnF4Wthg"
      }
    },
    {
      "cell_type": "code",
      "source": [
        "sample_html = \"\"\"\n",
        "<html>\n",
        "<body>\n",
        "    <h1> BeautifulSoup </h1>\n",
        "    <p> BeautifulSoup is a Python library for parsing HTML documents. We can use it to extract data from HTML we fetch\n",
        "        from the web.\n",
        "        Here, we're just using it to parse some simple sample HTML.\n",
        "    </p>\n",
        "    <h2 class=\"important\"> Searching the tree </h2>\n",
        "    <p id=\"searching_description\" style=\"color: red\"> BeautifulSoup allows us to search the HTML tree in lots of different ways: by tag, by\n",
        "        id, by CSS class, and so on. </p>\n",
        "    <ol>\n",
        "        <li role=\"example_1\"> By tag: we could search for every li </li>\n",
        "        <li role=\"example_2\"> By id: we could search for the p tag with id=\"searching_description\" </li>\n",
        "        <li role=\"example_3\" class=\"important\"> By class: we could search for every tag with a given class </li>\n",
        "        <li> and so on... </li>\n",
        "    </ol>\n",
        "    <div>\n",
        "        <p>Div tags are used to group block-elements and structure the web page.</p>\n",
        "    </div>\n",
        "</body>\n",
        "</html>\n",
        "\"\"\""
      ],
      "metadata": {
        "id": "iTMQA6s2WwE5"
      },
      "execution_count": null,
      "outputs": []
    },
    {
      "cell_type": "markdown",
      "source": [
        "---\n",
        "\n",
        "<div class=\"alert alert-block alert-info\">\n",
        "<h4>HTML cheatsheet: Tags & Attributes</h4>\n",
        "\n",
        "An HTML element is a part of an HTML document that is made up of a start tag, some content, and then a closing tag: `<div>Some text about anything</div>`. These elements can also include attributes, which go in the start tag: `<div id=\"unique_abc\">Some text</div>`.\n",
        "\n",
        "<br>\n",
        "\n",
        "**Tags** are the building blocks of HTML. They are used to define the structure and content of a web page. In the **`sample_html`**, **html**, **body**, **h1**, **p**, **h2**, **ol**, **li**, and **div** are examples of tags.\n",
        "- `<html>`: The root element that defines the whole HTML document.\n",
        "- `<body>`: Contains the content of an HTML document.\n",
        "- `<h1>`, `<h2>`: Heading tags used to define headings. `<h1>` represents the main heading, while `<h2>` represents a subheading (heading tags go all the way down to <b>h6</b>, which is the smallest heading).\n",
        "- `<p>`: Defines a paragraph.\n",
        "- `<ol>`: Defines an ordered list.\n",
        "- `<li>`: Defines a list item within a list.\n",
        "- `<div>`: A block-level element used as a container to group and style sections of HTML documents with CSS or manipulate them with JavaScript.\n",
        "\n",
        "<br>\n",
        "\n",
        "**Attributes** provide additional information about an element's properties. They are always specified in the start tag of an element and usually come in name/value pairs like name=\"value\". Common tags include:\n",
        "- `class`: An attribute used to specify a class name for an element. It is used by CSS and JavaScript to perform certain tasks for elements with the specified class name.\n",
        "- `id`: An attribute used to specify a unique id for an element. It is used to identify a single element in the document. In the sample, `id=\"searching_description\"` is used to uniquely identify a paragraph.\n",
        "- `style`: Defines the inline CSS style for an element. For example, `style=\"color: red\"` changes the text colour of the element to red.\n",
        "\n",
        "<br>\n",
        "\n",
        "**IDs vs. Classes**\n",
        "- IDs are unique identifiers for elements. An ID can only be associated with a single element in an HTML document.\n",
        "- Classes are not unique. Multiple elements can share the same class. This makes classes useful for applying the same styling or behaviour to multiple elements.\n",
        "\n",
        "</div>\n",
        "\n",
        "---"
      ],
      "metadata": {
        "id": "FIz6ORu7Wx8G"
      }
    },
    {
      "cell_type": "markdown",
      "source": [
        "<br>\n",
        "<br>\n",
        "\n",
        "### 1.1 **Parsing HTML with BeautifulSoup**\n",
        "\n",
        "At present, the `sample_html` variable is just a string. In order to search through it, we'll create a **Soup** object with BeautifulSoup - a searchable object representation. Using BeautifulSoup, we can search and navigate this structure in various ways:\n",
        "\n",
        "- By tag name: Finds all instances of a specified tag.\n",
        "- By ID: Finds the element with the specified ID.\n",
        "- By class name: Finds all elements that match the specified class.\n",
        "\n",
        "The BeautifulSoup object, soup, represents the parsed HTML document as a whole. With soup, you can use its methods to search for and manipulate elements based on their tags, IDs, classes, and other attributes. This flexibility makes BeautifulSoup a powerful tool for web scraping."
      ],
      "metadata": {
        "id": "XgRHLB_9XGNx"
      }
    },
    {
      "cell_type": "code",
      "source": [
        "soup = BeautifulSoup(sample_html, 'html.parser')    # Parsing the HTML using BeautifulSoup and the built-in HTML parser\n",
        "print(soup.prettify())      # Print the HTML in a nicely formatted way (with indentation)"
      ],
      "metadata": {
        "colab": {
          "base_uri": "https://localhost:8080/"
        },
        "id": "OG_zX3MVXJL1",
        "outputId": "803e56c8-3a16-4fff-a23b-d28db83fa534"
      },
      "execution_count": null,
      "outputs": [
        {
          "output_type": "stream",
          "name": "stdout",
          "text": [
            "<html>\n",
            " <body>\n",
            "  <h1>\n",
            "   BeautifulSoup\n",
            "  </h1>\n",
            "  <p>\n",
            "   BeautifulSoup is a Python library for parsing HTML documents. We can use it to extract data from HTML we fetch\n",
            "        from the web.\n",
            "        Here, we're just using it to parse some simple sample HTML.\n",
            "  </p>\n",
            "  <h2 class=\"important\">\n",
            "   Searching the tree\n",
            "  </h2>\n",
            "  <p id=\"searching_description\" style=\"color: red\">\n",
            "   BeautifulSoup allows us to search the HTML tree in lots of different ways: by tag, by\n",
            "        id, by CSS class, and so on.\n",
            "  </p>\n",
            "  <ol>\n",
            "   <li role=\"example_1\">\n",
            "    By tag: we could search for every li\n",
            "   </li>\n",
            "   <li role=\"example_2\">\n",
            "    By id: we could search for the p tag with id=\"searching_description\"\n",
            "   </li>\n",
            "   <li class=\"important\" role=\"example_3\">\n",
            "    By class: we could search for every tag with a given class\n",
            "   </li>\n",
            "   <li>\n",
            "    and so on...\n",
            "   </li>\n",
            "  </ol>\n",
            "  <div>\n",
            "   <p>\n",
            "    Div tags are used to group block-elements and structure the web page.\n",
            "   </p>\n",
            "  </div>\n",
            " </body>\n",
            "</html>\n",
            "\n"
          ]
        }
      ]
    },
    {
      "cell_type": "markdown",
      "source": [
        "Printing this `soup` object shows the same HTML, but its now stored in a way that allows us to search through it by specifying certain characteristics we want to find."
      ],
      "metadata": {
        "id": "1EFYfuPOXTg-"
      }
    },
    {
      "cell_type": "markdown",
      "source": [
        "<br>\n",
        "\n",
        "### 1.2 **Searching the HTML**\n",
        "\n",
        "We can now search the `soup` object to extract useful information. Let's try searching by tag, attribute, and by both.\n",
        "\n",
        "Useful BeautifulSoup methods include:\n",
        "- `.find()`: Searches for the **first** tag that matches a given name or filter, returning a single result.\n",
        "- `.find_all()`: Searches for all tags that match a given name or filter, returning a list of results.\n",
        "- `.select()`: Uses a CSS selector to search for matching tags, returning a list of results.\n",
        "- `.get_text()`: Extracts all text from a tag and its children, returning a single string (`.text` also achieves this).\n",
        "- `.get()`: Retrieves the value of a tag attribute, such as \"href\" in an `<a>` tag or \"src\" in an `<img>` tag."
      ],
      "metadata": {
        "id": "XsEnI7lhXVCZ"
      }
    },
    {
      "cell_type": "markdown",
      "source": [
        "<br>\n",
        "\n",
        "##### 1.2.1 **by tag**\n",
        "\n",
        "Here's an example of using .find() to find the first `<p>` tag:"
      ],
      "metadata": {
        "id": "ZK_7Nz1KXbyG"
      }
    },
    {
      "cell_type": "code",
      "source": [
        "soup.find('p').get_text()"
      ],
      "metadata": {
        "colab": {
          "base_uri": "https://localhost:8080/",
          "height": 52
        },
        "id": "7Xe6pH0jdNeZ",
        "outputId": "207b717e-1cf0-4502-989e-d6faa2023458"
      },
      "execution_count": null,
      "outputs": [
        {
          "output_type": "execute_result",
          "data": {
            "text/plain": [
              "\" BeautifulSoup is a Python library for parsing HTML documents. We can use it to extract data from HTML we fetch\\n        from the web.\\n        Here, we're just using it to parse some simple sample HTML.\\n    \""
            ],
            "application/vnd.google.colaboratory.intrinsic+json": {
              "type": "string"
            }
          },
          "metadata": {},
          "execution_count": 32
        }
      ]
    },
    {
      "cell_type": "code",
      "execution_count": null,
      "metadata": {
        "colab": {
          "base_uri": "https://localhost:8080/"
        },
        "id": "KzU8QbCNU0SX",
        "outputId": "d6bf8550-4b7d-499a-fb42-b31969975b09"
      },
      "outputs": [
        {
          "output_type": "stream",
          "name": "stdout",
          "text": [
            "<p> BeautifulSoup is a Python library for parsing HTML documents. We can use it to extract data from HTML we fetch\n",
            "        from the web.\n",
            "        Here, we're just using it to parse some simple sample HTML.\n",
            "    </p>\n"
          ]
        }
      ],
      "source": [
        "# Finding the first occurrence of the <p> tag\n",
        "first_p_tag = soup.find('p')    ### NOTE: find() returns the first occurrence of the tag. If you want all occurrences, use find_all()\n",
        "print(first_p_tag)"
      ]
    },
    {
      "cell_type": "markdown",
      "source": [
        "So we've extracted the first paragraph (`<p>`) element, but it includes the opening and closing tags. To get just the text, we'll use the `.get_text()` method."
      ],
      "metadata": {
        "id": "EZqtT-13XgXW"
      }
    },
    {
      "cell_type": "code",
      "source": [
        "print(first_p_tag.get_text())"
      ],
      "metadata": {
        "colab": {
          "base_uri": "https://localhost:8080/"
        },
        "id": "QdO2O5CRXepC",
        "outputId": "0c8360fc-7367-404f-8375-a445227f3942"
      },
      "execution_count": null,
      "outputs": [
        {
          "output_type": "stream",
          "name": "stdout",
          "text": [
            " BeautifulSoup is a Python library for parsing HTML documents. We can use it to extract data from HTML we fetch\n",
            "        from the web.\n",
            "        Here, we're just using it to parse some simple sample HTML.\n",
            "    \n"
          ]
        }
      ]
    },
    {
      "cell_type": "markdown",
      "source": [
        "What if we want to find the text of every list (`<li>`) element on the page? We can use `find_all()`"
      ],
      "metadata": {
        "id": "dlS_JoFkXkB7"
      }
    },
    {
      "cell_type": "code",
      "source": [
        "soup.find_all('li')"
      ],
      "metadata": {
        "colab": {
          "base_uri": "https://localhost:8080/"
        },
        "id": "XRorstg6dkW1",
        "outputId": "21437d70-e76c-498a-cc72-32334d5cff85"
      },
      "execution_count": null,
      "outputs": [
        {
          "output_type": "execute_result",
          "data": {
            "text/plain": [
              "[<li role=\"example_1\"> By tag: we could search for every li </li>,\n",
              " <li role=\"example_2\"> By id: we could search for the p tag with id=\"searching_description\" </li>,\n",
              " <li class=\"important\" role=\"example_3\"> By class: we could search for every tag with a given class </li>,\n",
              " <li> and so on... </li>]"
            ]
          },
          "metadata": {},
          "execution_count": 35
        }
      ]
    },
    {
      "cell_type": "code",
      "source": [
        "list_elements = soup.find_all('li') # Finding all the list elements in the HTML\n",
        "for element in list_elements:\n",
        "    print(element.text) # Printing the text of each list element"
      ],
      "metadata": {
        "colab": {
          "base_uri": "https://localhost:8080/"
        },
        "id": "3z4uYvbOXiKJ",
        "outputId": "6e7ad01d-3f6b-4c6d-dbaf-fe8bc2d571ba"
      },
      "execution_count": null,
      "outputs": [
        {
          "output_type": "stream",
          "name": "stdout",
          "text": [
            " By tag: we could search for every li \n",
            " By id: we could search for the p tag with id=\"searching_description\" \n",
            " By class: we could search for every tag with a given class \n",
            " and so on... \n"
          ]
        }
      ]
    },
    {
      "cell_type": "markdown",
      "source": [
        "**Note:** when using `.find_all()`, any matching elements are returned as a list - even if only 1 element is returned."
      ],
      "metadata": {
        "id": "J72ON1GGXoBv"
      }
    },
    {
      "cell_type": "markdown",
      "source": [
        "<br>\n",
        "\n",
        "##### 1.2.2 **by class**\n",
        "\n",
        "Let's find all elements with the `class` `important`"
      ],
      "metadata": {
        "id": "8AtnNwnLHqPP"
      }
    },
    {
      "cell_type": "code",
      "source": [
        "important_elements = soup.find_all(class_='important') # Finding all the elements with class=\"important\"\n",
        "print(important_elements)"
      ],
      "metadata": {
        "id": "-fFHZPkQHqub"
      },
      "execution_count": null,
      "outputs": []
    },
    {
      "cell_type": "markdown",
      "source": [
        "Let's view these elements individually."
      ],
      "metadata": {
        "id": "rcc2vLWHIVfx"
      }
    },
    {
      "cell_type": "code",
      "source": [
        "print(f\"There are {len(important_elements)} elements with class='important'\\n\")\n",
        "for element in important_elements:\n",
        "    print(element) # Printing each element with class=\"important\""
      ],
      "metadata": {
        "colab": {
          "base_uri": "https://localhost:8080/"
        },
        "id": "IiDU4KpbH8Uc",
        "outputId": "e2a53d66-194b-4ec5-f2c8-b04df13de4a0"
      },
      "execution_count": null,
      "outputs": [
        {
          "output_type": "stream",
          "name": "stdout",
          "text": [
            "There are 2 elements with class='important'\n",
            "\n",
            "<h2 class=\"important\"> Searching the tree </h2>\n",
            "<li class=\"important\" role=\"example_3\"> By class: we could search for every tag with a given class </li>\n"
          ]
        }
      ]
    },
    {
      "cell_type": "markdown",
      "source": [
        "<br>\n",
        "\n",
        "##### 1.2.3 **by id**\n",
        "\n",
        "Let's find the paragraph (`<p>`) with `id`=\"searching_description\""
      ],
      "metadata": {
        "id": "bVw7SAGJXuyI"
      }
    },
    {
      "cell_type": "code",
      "source": [
        "# instead of using find_all, we can use `find()` to find the first element that matches the search criteria\n",
        "description_element = soup.find('p', attrs={'id': 'searching_description'}) # Finding the paragraph with id=\"searching_description\"\n",
        "print(description_element)\n",
        "\n",
        "print('\\nJust the text:', description_element.get_text()) # Printing the text of the paragraph with id=\"searching_description\""
      ],
      "metadata": {
        "colab": {
          "base_uri": "https://localhost:8080/"
        },
        "id": "fH4WRmx6Xlv9",
        "outputId": "d675b74c-267c-4d05-a36e-f6f31e1c6a0a"
      },
      "execution_count": null,
      "outputs": [
        {
          "output_type": "stream",
          "name": "stdout",
          "text": [
            "<p id=\"searching_description\" style=\"color: red\"> BeautifulSoup allows us to search the HTML tree in lots of different ways: by tag, by\n",
            "        id, by CSS class, and so on. </p>\n",
            "\n",
            "Just the text:  BeautifulSoup allows us to search the HTML tree in lots of different ways: by tag, by\n",
            "        id, by CSS class, and so on. \n"
          ]
        }
      ]
    },
    {
      "cell_type": "markdown",
      "source": [
        "As well as getting text *within* HTML elements, we can **extract the attribute values of that element**. Let's get the style attribute."
      ],
      "metadata": {
        "id": "q5RHSKf0Xy0z"
      }
    },
    {
      "cell_type": "code",
      "source": [
        "print('Paragraph style:', description_element['style']) # Printing the value of the style attribute of the paragraph with id=\"searching_description\""
      ],
      "metadata": {
        "colab": {
          "base_uri": "https://localhost:8080/"
        },
        "id": "ysotyqP6XyW0",
        "outputId": "12d53d28-b047-47f0-cb03-fb4542724488"
      },
      "execution_count": null,
      "outputs": [
        {
          "output_type": "stream",
          "name": "stdout",
          "text": [
            "Paragraph style: color: red\n"
          ]
        }
      ]
    },
    {
      "cell_type": "markdown",
      "source": [
        "<br>\n",
        "\n",
        "#### 1.2.4 **Bonus**: custom searching\n",
        "\n",
        "we can search in any way we want by supplying a function of our own\n",
        "\n",
        "let's write a simple function that identifies whether an element's `role` attribute that starts with `example_`"
      ],
      "metadata": {
        "id": "dMFIVlu-X9to"
      }
    },
    {
      "cell_type": "code",
      "source": [
        "def important_role(role_attribute):\n",
        "    return role_attribute != None and 'example_' in role_attribute\n",
        "\n",
        "# Find the first <ol> element\n",
        "ol_element = soup.find('ol')\n",
        "ol_element.find_all('li', role=important_role) # Finding all the list elements with a role attribute that contains 'example-'"
      ],
      "metadata": {
        "colab": {
          "base_uri": "https://localhost:8080/"
        },
        "id": "ylbcNyxxX_8P",
        "outputId": "bcaed53f-bf39-4a5f-ce4a-8794d12106fd"
      },
      "execution_count": null,
      "outputs": [
        {
          "output_type": "execute_result",
          "data": {
            "text/plain": [
              "[<li role=\"example_1\"> By tag: we could search for every li </li>,\n",
              " <li role=\"example_2\"> By id: we could search for the p tag with id=\"searching_description\" </li>,\n",
              " <li class=\"important\" role=\"example_3\"> By class: we could search for every tag with a given class </li>]"
            ]
          },
          "metadata": {},
          "execution_count": 47
        }
      ]
    },
    {
      "cell_type": "markdown",
      "source": [
        "<br>\n",
        "\n",
        "#### 1.2.5 **Bonus**: Searching using CSS selectors.\n",
        "\n",
        "We can also use the `.select()` method to search for elements using CSS notation. Here's how we would define styles in a CSS file to apply HTML tags, classes, and ids:\n",
        "- p {} -> applies to all HTML 'p' tags\n",
        "- #chart {} -> applies to all HTML elements with the attribute class=\"chart\"\n",
        "- .chart1 {} -> applies to all HTML elements with the attribute id=\"chart1\"\n",
        "\n",
        "`figure`, `#chart1`, `.chart1` are each CSS selectors. We can pass this to the `.select()` method to extract matching elements.\n",
        "\n",
        "- **Note**: we can achieve the same results with the .find .find_all etc methods we showed above, but using CSS selectors can be nice as it keeps the same system we're used to when using CSS on our own website.\n",
        "\n",
        "- **Tip**: There are more useful features of the `.select()` method that allow for complex searching (such as by attribute or for the nth type). [More info here](https://www.tutorialspoint.com/beautiful_soup/beautiful_soup_find_element_using_css_selectors.htm)."
      ],
      "metadata": {
        "id": "zYB_HDsyYDwP"
      }
    },
    {
      "cell_type": "code",
      "source": [
        "soup.select('p')"
      ],
      "metadata": {
        "colab": {
          "base_uri": "https://localhost:8080/"
        },
        "id": "eatK-e1fX3-C",
        "outputId": "eeeeb713-bc08-4d76-b6c8-0ee898f737c3"
      },
      "execution_count": null,
      "outputs": [
        {
          "output_type": "execute_result",
          "data": {
            "text/plain": [
              "[<p> BeautifulSoup is a Python library for parsing HTML documents. We can use it to extract data from HTML we fetch\n",
              "         from the web.\n",
              "         Here, we're just using it to parse some simple sample HTML.\n",
              "     </p>,\n",
              " <p id=\"searching_description\" style=\"color: red\"> BeautifulSoup allows us to search the HTML tree in lots of different ways: by tag, by\n",
              "         id, by CSS class, and so on. </p>,\n",
              " <p>Div tags are used to group block-elements and structure the web page.</p>]"
            ]
          },
          "metadata": {},
          "execution_count": 49
        }
      ]
    },
    {
      "cell_type": "code",
      "source": [
        "# Search for elements with id=\"searching_description\"\n",
        "soup.select('#searching_description')"
      ],
      "metadata": {
        "colab": {
          "base_uri": "https://localhost:8080/"
        },
        "id": "z0kZBVnbYFX6",
        "outputId": "ed5f81e0-4e33-4112-e2bc-25e2442646f3"
      },
      "execution_count": null,
      "outputs": [
        {
          "output_type": "execute_result",
          "data": {
            "text/plain": [
              "[<p id=\"searching_description\" style=\"color: red\"> BeautifulSoup allows us to search the HTML tree in lots of different ways: by tag, by\n",
              "         id, by CSS class, and so on. </p>]"
            ]
          },
          "metadata": {},
          "execution_count": 50
        }
      ]
    },
    {
      "cell_type": "code",
      "source": [
        "# Search for p elements with a style attribute (it doesn't matter what the value of the style attribute is)\n",
        "soup.select('p[style]')"
      ],
      "metadata": {
        "colab": {
          "base_uri": "https://localhost:8080/"
        },
        "id": "owBj1BmMYKu_",
        "outputId": "ab031c01-44fc-4052-99a9-1e4976ec0f0e"
      },
      "execution_count": null,
      "outputs": [
        {
          "output_type": "execute_result",
          "data": {
            "text/plain": [
              "[<p id=\"searching_description\" style=\"color: red\"> BeautifulSoup allows us to search the HTML tree in lots of different ways: by tag, by\n",
              "         id, by CSS class, and so on. </p>]"
            ]
          },
          "metadata": {},
          "execution_count": 51
        }
      ]
    },
    {
      "cell_type": "markdown",
      "source": [
        "<br>\n",
        "\n",
        "---"
      ],
      "metadata": {
        "id": "1ZK_f1xkYPqH"
      }
    },
    {
      "cell_type": "markdown",
      "source": [
        "<br>\n",
        "<br>\n",
        "\n",
        "# Part 2. Live HTML\n",
        "\n",
        "## Getting HTML from the web with `Requests`\n",
        "\n",
        "<div style=\"display: flex; align-items: flex-start;\">\n",
        "    <div style=\"flex: 0 2 auto;\">\n",
        "        <img src=\"https://raw.githubusercontent.com/FM-ds/ScrapingWorkshop/main/notebook_images/sample_html_safari.png\" width=\"400px\">\n",
        "    </div>\n",
        "    <div style=\"flex: 1 1 auto; margin-top: 10px; margin-right: 150px\">\n",
        "        <p>We just extracted information from HTML which was defined locally in a string <code>sample_html</code>. Usually, we care about HTML found on the internet. As a simple example, the page defined in <code>sample_html</code> is available at <a href=\"https://jhellingsdata.github.io/examples/scraping/samplePage1.html\">https://jhellingsdata.github.io/examples/scraping/samplePage1.html</a></p>\n",
        "        <p>To download HTML (and any other resources) from the internet, we can use the <code>requests</code> module.</p>\n",
        "    </div>\n",
        "</div>\n"
      ],
      "metadata": {
        "id": "Ao1zHFqGYTDl"
      }
    },
    {
      "cell_type": "code",
      "source": [
        "import requests                # for making HTTP requests"
      ],
      "metadata": {
        "id": "gBXOvmxMYXI2"
      },
      "execution_count": null,
      "outputs": []
    },
    {
      "cell_type": "markdown",
      "source": [
        "We'll use the `.get()` method with our target URL to make this request."
      ],
      "metadata": {
        "id": "OtuuP2WJYZsc"
      }
    },
    {
      "cell_type": "code",
      "source": [
        "response = requests.get('https://jhellingsdata.github.io/examples/scraping/samplePage1.html') # Making a request for the sample HTML hosted on the web\n",
        "\n",
        "# Let's check the content of our get request (showing only the first 400 characters)\n",
        "print(response.text[:400], '...')"
      ],
      "metadata": {
        "colab": {
          "base_uri": "https://localhost:8080/"
        },
        "id": "no4SL5GuYQ0l",
        "outputId": "aa853b39-70d6-498e-e23f-85c5fb92d75b"
      },
      "execution_count": null,
      "outputs": [
        {
          "output_type": "stream",
          "name": "stdout",
          "text": [
            "<html>\n",
            "<body>\n",
            "    <h1> BeautifulSoup </h1>\n",
            "    <p> BeautifulSoup is a Python library for parsing HTML documents. We can use it to extract data from HTML we fetch\n",
            "        from the web.\n",
            "        Here, we're just using it to parse some simple sample HTML. </p>\n",
            "\n",
            "    <h2 class=\"important\"> Searching the tree </h2>\n",
            "    <p id=\"searching_description\" style=\"color: red\"> BeautifulSoup allows us to search th ...\n"
          ]
        }
      ]
    },
    {
      "cell_type": "markdown",
      "source": [
        "We've successfully managed to use Python code to fetch HTML code from the web!"
      ],
      "metadata": {
        "id": "at26N2Y9Yh72"
      }
    },
    {
      "cell_type": "markdown",
      "source": [
        "<br>\n",
        "\n",
        "**Parsing** - We need to convert the HTML code from normal text (i.e. string) into some format that we can search. Just as we did before, we'll use BeautifulSoup to parse the response into a special `soup` object."
      ],
      "metadata": {
        "id": "OsT0b07xYkEE"
      }
    },
    {
      "cell_type": "code",
      "source": [
        "soup = BeautifulSoup(response.text, 'html.parser') # Instead of using the sample HTML, we're using the HTML from the web that we fetched in the previous step"
      ],
      "metadata": {
        "id": "5SVk7bw-Ymbz"
      },
      "execution_count": null,
      "outputs": []
    },
    {
      "cell_type": "code",
      "source": [
        "soup.find_all('li') # Finding all the list elements in the HTML"
      ],
      "metadata": {
        "colab": {
          "base_uri": "https://localhost:8080/"
        },
        "id": "o3yZZAt0gawF",
        "outputId": "a4a32661-0fca-4c50-918e-feb5140956c5"
      },
      "execution_count": null,
      "outputs": [
        {
          "output_type": "execute_result",
          "data": {
            "text/plain": [
              "[<li role=\"example_1\"> By tag: we could search for every li </li>,\n",
              " <li role=\"example_2\"> By id: we could search for the p tag with id=\"searching_description\" </li>,\n",
              " <li class=\"important\" role=\"example_3\"> By class: we could search for every tag with a given class </li>,\n",
              " <li> and so on... </li>,\n",
              " <li><a href=\"https://example.com/page1\">Page 1</a></li>,\n",
              " <li><a href=\"https://example.com/page2\">Page 2</a></li>,\n",
              " <li><a href=\"https://example.com/page3\">Page 3</a></li>]"
            ]
          },
          "metadata": {},
          "execution_count": 57
        }
      ]
    },
    {
      "cell_type": "markdown",
      "source": [
        "<br>\n",
        "<br>\n",
        "\n",
        "### <font color='Green'><strong>Exercises: </strong></font>\n",
        "\n",
        "**EX 1** Retrieve the text of the paragraph (`<p>`) with the id \"exercise1\"."
      ],
      "metadata": {
        "id": "_qW96D7nYn8n"
      }
    },
    {
      "cell_type": "code",
      "source": [
        "### 1. Add Solution Here ###\n",
        "exercise1 = # TODO"
      ],
      "metadata": {
        "id": "1tfHyj-AYflW",
        "colab": {
          "base_uri": "https://localhost:8080/",
          "height": 35
        },
        "outputId": "49e8f90e-5792-44c9-ea41-70de167b1627"
      },
      "execution_count": null,
      "outputs": [
        {
          "output_type": "execute_result",
          "data": {
            "text/plain": [
              "'Find the text of the first paragraph inside this div.'"
            ],
            "application/vnd.google.colaboratory.intrinsic+json": {
              "type": "string"
            }
          },
          "metadata": {},
          "execution_count": 59
        }
      ]
    },
    {
      "cell_type": "markdown",
      "source": [
        "<br>\n",
        "\n",
        "**EX 2** Count the number of `<div>` elements on the page that have the class \"exercise\"."
      ],
      "metadata": {
        "id": "JGlcYo93Yq5-"
      }
    },
    {
      "cell_type": "code",
      "source": [
        "### 2. Add Solution Here ###\n",
        "exercise_divs = # TODO"
      ],
      "metadata": {
        "id": "MygqCjDaYwZK",
        "colab": {
          "base_uri": "https://localhost:8080/"
        },
        "outputId": "9cedf499-cd04-4625-f41b-7d739bc56010"
      },
      "execution_count": null,
      "outputs": [
        {
          "output_type": "execute_result",
          "data": {
            "text/plain": [
              "3"
            ]
          },
          "metadata": {},
          "execution_count": 61
        }
      ]
    },
    {
      "cell_type": "markdown",
      "source": [
        "<br>\n",
        "\n",
        "**EX 3** Extract and print all the URLs from the anchor (`<a>`) tags within the list in div with the id \"exercise3\"."
      ],
      "metadata": {
        "id": "yEeOu28iYxd0"
      }
    },
    {
      "cell_type": "code",
      "source": [
        "### 3. Add Solution Here ###\n",
        "\n",
        "anchor_tags = # TODO\n",
        "for tag in anchor_tags:\n",
        "  # TODO\n"
      ],
      "metadata": {
        "id": "VhuenewVY31i",
        "colab": {
          "base_uri": "https://localhost:8080/"
        },
        "outputId": "a667b3c3-5fd7-42fe-e41a-7965b9ec5254"
      },
      "execution_count": null,
      "outputs": [
        {
          "output_type": "stream",
          "name": "stdout",
          "text": [
            "https://example.com/page1\n",
            "https://example.com/page2\n",
            "https://example.com/page3\n"
          ]
        }
      ]
    },
    {
      "cell_type": "code",
      "source": [],
      "metadata": {
        "id": "7xwDpbcSixbs"
      },
      "execution_count": null,
      "outputs": []
    }
  ]
}