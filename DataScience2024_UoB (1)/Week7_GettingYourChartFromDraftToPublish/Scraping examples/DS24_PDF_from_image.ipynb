{
  "cells": [
    {
      "cell_type": "markdown",
      "metadata": {
        "id": "Itgos0BGDdse"
      },
      "source": [
        "Converting _PDF_ tables to pandas `pandas`-from images - a.k.a \"rasterised\" `pdf`. This workbook is for extracting information from `pdf` files that have been generated through scanning, photographs, or exported otherwise not as text. THis is significantly more complex task than the previous one - it can be broken down into 3 steps::\n",
        " 1. Converting _PDF_ pages to images\n",
        " 2. Recognising text (_OCR - optical character recognition_)\n",
        " 3. Converting the extracted text into a data table"
      ]
    },
    {
      "cell_type": "markdown",
      "metadata": {
        "id": "NPL3b1enDdsh"
      },
      "source": [
        "### Installs"
      ]
    },
    {
      "cell_type": "markdown",
      "metadata": {
        "id": "ve70qwLnDdsi"
      },
      "source": [
        "#### Poppler"
      ]
    },
    {
      "cell_type": "code",
      "source": [
        "!apt-get install poppler-utils "
      ],
      "metadata": {
        "colab": {
          "base_uri": "https://localhost:8080/"
        },
        "id": "dgw2EaJxEZkq",
        "outputId": "c9ec7929-f68b-41d8-e6fe-e99fda051210"
      },
      "execution_count": 1,
      "outputs": [
        {
          "output_type": "stream",
          "name": "stdout",
          "text": [
            "Reading package lists... Done\n",
            "Building dependency tree       \n",
            "Reading state information... Done\n",
            "poppler-utils is already the newest version (0.62.0-2ubuntu2.14).\n",
            "The following package was automatically installed and is no longer required:\n",
            "  libnvidia-common-460\n",
            "Use 'apt autoremove' to remove it.\n",
            "0 upgraded, 0 newly installed, 0 to remove and 27 not upgraded.\n"
          ]
        }
      ]
    },
    {
      "cell_type": "markdown",
      "source": [
        "#### Tesseract"
      ],
      "metadata": {
        "id": "59LU_GhCNh-D"
      }
    },
    {
      "cell_type": "code",
      "source": [
        "!apt install tesseract-ocr"
      ],
      "metadata": {
        "colab": {
          "base_uri": "https://localhost:8080/"
        },
        "id": "2G9jkYjzEz4o",
        "outputId": "e4c7e1c2-4bbe-4d71-fe73-ae5a19a556db"
      },
      "execution_count": 2,
      "outputs": [
        {
          "output_type": "stream",
          "name": "stdout",
          "text": [
            "Reading package lists... Done\n",
            "Building dependency tree       \n",
            "Reading state information... Done\n",
            "tesseract-ocr is already the newest version (4.00~git2288-10f4998a-2).\n",
            "The following package was automatically installed and is no longer required:\n",
            "  libnvidia-common-460\n",
            "Use 'apt autoremove' to remove it.\n",
            "0 upgraded, 0 newly installed, 0 to remove and 27 not upgraded.\n"
          ]
        }
      ]
    },
    {
      "cell_type": "code",
      "source": [
        "!pip install pytesseract"
      ],
      "metadata": {
        "colab": {
          "base_uri": "https://localhost:8080/"
        },
        "id": "ACw1xlARN_wN",
        "outputId": "76e641c5-4d10-48b7-e073-497f0a6dc405"
      },
      "execution_count": 3,
      "outputs": [
        {
          "output_type": "stream",
          "name": "stdout",
          "text": [
            "Looking in indexes: https://pypi.org/simple, https://us-python.pkg.dev/colab-wheels/public/simple/\n",
            "Requirement already satisfied: pytesseract in /usr/local/lib/python3.7/dist-packages (0.3.10)\n",
            "Requirement already satisfied: packaging>=21.3 in /usr/local/lib/python3.7/dist-packages (from pytesseract) (21.3)\n",
            "Requirement already satisfied: Pillow>=8.0.0 in /usr/local/lib/python3.7/dist-packages (from pytesseract) (9.2.0)\n",
            "Requirement already satisfied: pyparsing!=3.0.5,>=2.0.2 in /usr/local/lib/python3.7/dist-packages (from packaging>=21.3->pytesseract) (3.0.9)\n"
          ]
        }
      ]
    },
    {
      "cell_type": "markdown",
      "metadata": {
        "id": "EiPJkFsgDdsk"
      },
      "source": [
        "#### Restart Python"
      ]
    },
    {
      "cell_type": "markdown",
      "metadata": {
        "id": "NF04FcV-Ddsk"
      },
      "source": [
        "Read this if you are interested in the process: https://www.geeksforgeeks.org/python-reading-contents-of-pdf-using-ocr-optical-character-recognition/"
      ]
    },
    {
      "cell_type": "code",
      "execution_count": 4,
      "metadata": {
        "colab": {
          "base_uri": "https://localhost:8080/"
        },
        "id": "_eG1_rpXDdsk",
        "outputId": "997f1830-2a0f-4fbe-cf6c-a359d3fe3b61"
      },
      "outputs": [
        {
          "output_type": "stream",
          "name": "stdout",
          "text": [
            "Looking in indexes: https://pypi.org/simple, https://us-python.pkg.dev/colab-wheels/public/simple/\n",
            "Requirement already satisfied: Pillow in /usr/local/lib/python3.7/dist-packages (9.2.0)\n"
          ]
        }
      ],
      "source": [
        "!pip install Pillow"
      ]
    },
    {
      "cell_type": "code",
      "execution_count": 5,
      "metadata": {
        "colab": {
          "base_uri": "https://localhost:8080/"
        },
        "id": "QdS43dpfDdsl",
        "outputId": "9a476b02-7833-40d5-a0fa-68c8f5da3367"
      },
      "outputs": [
        {
          "output_type": "stream",
          "name": "stdout",
          "text": [
            "Looking in indexes: https://pypi.org/simple, https://us-python.pkg.dev/colab-wheels/public/simple/\n",
            "Requirement already satisfied: pdf2image in /usr/local/lib/python3.7/dist-packages (1.16.0)\n",
            "Requirement already satisfied: pillow in /usr/local/lib/python3.7/dist-packages (from pdf2image) (9.2.0)\n"
          ]
        }
      ],
      "source": [
        "!pip install pdf2image"
      ]
    },
    {
      "cell_type": "markdown",
      "metadata": {
        "id": "jtROlR7KDdsm"
      },
      "source": [
        "Read this if you want to run this outside of `Colab`: https://stackoverflow.com/questions/44439443/python-how-to-pip-install-opencv2-with-specific-version-2-4-9"
      ]
    },
    {
      "cell_type": "code",
      "execution_count": 6,
      "metadata": {
        "colab": {
          "base_uri": "https://localhost:8080/"
        },
        "id": "QbZDk6IeDdsm",
        "outputId": "d28f6600-1f13-453f-b808-5485204fcf19"
      },
      "outputs": [
        {
          "output_type": "stream",
          "name": "stdout",
          "text": [
            "Looking in indexes: https://pypi.org/simple, https://us-python.pkg.dev/colab-wheels/public/simple/\n",
            "Requirement already satisfied: opencv-python in /usr/local/lib/python3.7/dist-packages (4.6.0.66)\n",
            "Requirement already satisfied: numpy>=1.14.5 in /usr/local/lib/python3.7/dist-packages (from opencv-python) (1.21.6)\n"
          ]
        }
      ],
      "source": [
        "!pip install opencv-python"
      ]
    },
    {
      "cell_type": "markdown",
      "source": [
        "## Conversion"
      ],
      "metadata": {
        "id": "7eJPhBp5PaMP"
      }
    },
    {
      "cell_type": "markdown",
      "metadata": {
        "id": "F6dwihzeDdsn"
      },
      "source": [
        "# 1"
      ]
    },
    {
      "cell_type": "markdown",
      "metadata": {
        "id": "WyIH4UoyDdsn"
      },
      "source": [
        "https://hoineki.com/article.php?a=How_to_convert_PDF_to_Image34"
      ]
    },
    {
      "cell_type": "code",
      "execution_count": 7,
      "metadata": {
        "id": "e0eecz4vDdsn"
      },
      "outputs": [],
      "source": [
        "from PIL import Image \n",
        "import sys \n",
        "from pdf2image import convert_from_path \n",
        "import os "
      ]
    },
    {
      "cell_type": "code",
      "execution_count": 8,
      "metadata": {
        "id": "EOfA3pDWDdsv"
      },
      "outputs": [],
      "source": [
        "# Path of the pdf \n",
        "PDF_file = \"patent-data.pdf\""
      ]
    },
    {
      "cell_type": "code",
      "execution_count": 9,
      "metadata": {
        "id": "1kmlbJKPDdsv"
      },
      "outputs": [],
      "source": [
        "if not os.path.exists('pdf/'+PDF_file+'/'):\n",
        "    os.makedirs('pdf/'+PDF_file+'/')"
      ]
    },
    {
      "cell_type": "markdown",
      "metadata": {
        "id": "qx3wuvzDDdsv"
      },
      "source": [
        "We make a folder to store the extracted _PDF_ pages, as images."
      ]
    },
    {
      "cell_type": "code",
      "execution_count": 10,
      "metadata": {
        "colab": {
          "base_uri": "https://localhost:8080/"
        },
        "id": "RSb74OIWDdsv",
        "outputId": "14f9979e-b806-40b4-e9ca-e3bfe72fe149"
      },
      "outputs": [
        {
          "output_type": "stream",
          "name": "stdout",
          "text": [
            "1 page done..\n",
            "2 page done..\n",
            "3 page done..\n",
            "4 page done..\n",
            "5 page done..\n",
            "6 page done..\n"
          ]
        }
      ],
      "source": [
        "# Store all the pages of the PDF in a variable \n",
        "#second argument is hte resolution, try between 300-600\n",
        "pages = convert_from_path(PDF_file, 600) \n",
        "  \n",
        "# Counter to store images of each page of PDF to image \n",
        "image_counter = 1\n",
        "  \n",
        "# Iterate through all the pages stored above \n",
        "for page in pages: \n",
        "  \n",
        "    # Declaring filename for each page of PDF as JPG \n",
        "    # For each page, filename will be: \n",
        "    # PDF page 1 -> page_1.jpg \n",
        "    # PDF page 2 -> page_2.jpg \n",
        "    # PDF page 3 -> page_3.jpg \n",
        "    # .... \n",
        "    # PDF page n -> page_n.jpg \n",
        "    filename = 'pdf/'+PDF_file+\"/page_\"+str(image_counter)+\".jpg\"\n",
        "    print(image_counter,'page done..')\n",
        "      \n",
        "    # Save the image of the page in system \n",
        "    page.save(filename, 'JPEG') \n",
        "  \n",
        "    # Increment the counter to update filename \n",
        "    image_counter = image_counter + 1"
      ]
    },
    {
      "cell_type": "markdown",
      "metadata": {
        "id": "X170VbzIDdsw"
      },
      "source": [
        "# 2"
      ]
    },
    {
      "cell_type": "markdown",
      "metadata": {
        "id": "9vwQuTrZDdsw"
      },
      "source": [
        "Optical character recognition"
      ]
    },
    {
      "cell_type": "code",
      "execution_count": 11,
      "metadata": {
        "id": "7D8I4l8uDdsw"
      },
      "outputs": [],
      "source": [
        "import pytesseract"
      ]
    },
    {
      "cell_type": "code",
      "execution_count": 12,
      "metadata": {
        "colab": {
          "base_uri": "https://localhost:8080/"
        },
        "id": "tY34xvzaDdsw",
        "outputId": "f0a80254-bc01-4e65-9b88-0691b1cb9723"
      },
      "outputs": [
        {
          "output_type": "stream",
          "name": "stdout",
          "text": [
            "1 oldal kész..\n",
            "2 oldal kész..\n",
            "3 oldal kész..\n",
            "4 oldal kész..\n",
            "5 oldal kész..\n",
            "6 oldal kész..\n"
          ]
        }
      ],
      "source": [
        "# Variable to get count of total number of pages \n",
        "filelimit = image_counter-1\n",
        "  \n",
        "# Creating a text file to write the output \n",
        "outfile = 'pdf/'+PDF_file+\"/text.txt\"\n",
        "  \n",
        "# Open the file in append mode so that  \n",
        "# All contents of all images are added to the same file \n",
        "f = open(outfile, \"a\") \n",
        "  \n",
        "# Iterate from 1 to total number of pages \n",
        "for i in range(1, filelimit + 1): \n",
        "  \n",
        "    # Set filename to recognize text from \n",
        "    # Again, these files will be: \n",
        "    # page_1.jpg \n",
        "    # page_2.jpg \n",
        "    # .... \n",
        "    # page_n.jpg \n",
        "    filename = 'pdf/'+PDF_file+\"/page_\"+str(i)+\".jpg\"\n",
        "          \n",
        "    # Recognize the text as string in image using pytesserct \n",
        "    text = str(((pytesseract.image_to_string(Image.open(filename))))) \n",
        "    print(i,'page done..')\n",
        "  \n",
        "    # The recognized text is stored in variable text \n",
        "    # Any string processing may be applied on text \n",
        "    # Here, basic formatting has been done: \n",
        "    # In many PDFs, at line ending, if a word can't \n",
        "    # be written fully, a 'hyphen' is added. \n",
        "    # The rest of the word is written in the next line \n",
        "    # Eg: This is a sample text this word here GeeksF- \n",
        "    # orGeeks is half on first line, remaining on next. \n",
        "    # To remove this, we replace every '-\\n' to ''. \n",
        "    text = text.replace('-\\n', '')     \n",
        "  \n",
        "    # Finally, write the processed text to the file. \n",
        "    f.write(text) \n",
        "\n",
        "# Close the file after writing all the text. \n",
        "f.close() "
      ]
    },
    {
      "cell_type": "markdown",
      "metadata": {
        "id": "LDvsgmj0Ddsx"
      },
      "source": [
        "# 3"
      ]
    },
    {
      "cell_type": "code",
      "execution_count": 13,
      "metadata": {
        "id": "c67Vmy_YDdsx"
      },
      "outputs": [],
      "source": [
        "import pandas as pd"
      ]
    },
    {
      "cell_type": "markdown",
      "metadata": {
        "id": "0Gx0Y_A0Ddsx"
      },
      "source": [
        "Processing the reocgnised text"
      ]
    },
    {
      "cell_type": "code",
      "execution_count": 14,
      "metadata": {
        "id": "jtr5vqtkDdsx"
      },
      "outputs": [],
      "source": [
        "pages=open(outfile,'r').read()"
      ]
    },
    {
      "cell_type": "markdown",
      "metadata": {
        "id": "lgRLv7-4Ddsy"
      },
      "source": [
        "Splitting lines by the newline character `\\n`"
      ]
    },
    {
      "cell_type": "code",
      "execution_count": 15,
      "metadata": {
        "id": "L8FqApbHDdsy"
      },
      "outputs": [],
      "source": [
        "lines=[i for i in pages.split('\\n') if i]"
      ]
    },
    {
      "cell_type": "code",
      "execution_count": 16,
      "metadata": {
        "id": "oSrVtgCQDdsy"
      },
      "outputs": [],
      "source": [
        "good_lines=[line for line in lines if line[0].isdigit()]"
      ]
    },
    {
      "cell_type": "markdown",
      "metadata": {
        "id": "df7QRK-PDdsy"
      },
      "source": [
        "Typical errors - you're on your own from here as every `pdf` is different.."
      ]
    },
    {
      "cell_type": "code",
      "source": [
        "good_lines"
      ],
      "metadata": {
        "colab": {
          "base_uri": "https://localhost:8080/"
        },
        "id": "O0OK4qT6QTLR",
        "outputId": "bc193acf-832f-4398-e277-597d87582014"
      },
      "execution_count": 17,
      "outputs": [
        {
          "output_type": "execute_result",
          "data": {
            "text/plain": [
              "['2. - DESIGNS, AND TRADE MARKS,',\n",
              " '2 WIth',\n",
              " '5.',\n",
              " '3 PRINTERS TO THE KING’S MOST EXCELLENT MAJESTY.',\n",
              " '7 t ¢ © bt 8',\n",
              " '1895.',\n",
              " '16,471',\n",
              " '1,185',\n",
              " '453',\n",
              " '35',\n",
              " '280',\n",
              " '173',\n",
              " '2,146',\n",
              " '90,962',\n",
              " '1,349',\n",
              " '635',\n",
              " '33',\n",
              " '88',\n",
              " '15',\n",
              " '1',\n",
              " '1897, 1898. 1899. 7 1900. “| 1901.',\n",
              " '19,897 17,380 1} 15,354 | 18,777 6,099',\n",
              " '1,439 1,595 1116 | 1,154 ? 320',\n",
              " '665 503 396 37% ae j',\n",
              " '38 29 a0 16',\n",
              " '12 14 | g 5 |',\n",
              " '13 9 8 id 1',\n",
              " '28 13 13 is 92',\n",
              " '127 121 97 90 94',\n",
              " '7 12 12 10 ll',\n",
              " '15 16 13 33 85',\n",
              " '9 8 9 38 9',\n",
              " '3 l 1 4',\n",
              " '6 1 1',\n",
              " '253 163 163 156 193',\n",
              " '12 1 2 wren 1',\n",
              " '69 63 7 68 68',\n",
              " '1 -— — —',\n",
              " '130 73 53 \": 0',\n",
              " '5 19 § 4',\n",
              " '1 *',\n",
              " '377 414 418 418 889',\n",
              " '245 295 208 ist 199',\n",
              " '41 63 69 77 80 |',\n",
              " '1,194 1,138 1,031 946 948',\n",
              " '2,459 2,599 9,991 | 2,631 assa |',\n",
              " '1 9 _',\n",
              " '59 108 112 100 97',\n",
              " '27 36 84 44',\n",
              " '3 9 — 2',\n",
              " '6 5 G 6',\n",
              " '104 115 125 102',\n",
              " '98 16 a4 18',\n",
              " '110 118 93 lod 14',\n",
              " '103 123 137 150 154',\n",
              " '5 3 6 —',\n",
              " '1 — 1 _ 9',\n",
              " '3 2 - 3',\n",
              " '5 2 3 5',\n",
              " '8 8 9 9',\n",
              " '1 1 1 2',\n",
              " '61 al 43 12',\n",
              " '1 1 3 l',\n",
              " '1 — _ —',\n",
              " '13 12 318 7 18',\n",
              " '1 % _ 6 _—',\n",
              " '8 17 5 7 5',\n",
              " '3,084 2,629 3,093 | 3,184 $,246',\n",
              " '30,952 | 27,650 | 25,800 {28,924 | 26,788',\n",
              " '2802.',\n",
              " '17,627',\n",
              " '376',\n",
              " '23',\n",
              " '1D',\n",
              " '124',\n",
              " '38',\n",
              " '176',\n",
              " '38,976',\n",
              " '293,489',\n",
              " '22.137',\n",
              " '7,528',\n",
              " '382',\n",
              " '169',\n",
              " '1,432',\n",
              " '5',\n",
              " '2',\n",
              " '2',\n",
              " '142',\n",
              " '3,307',\n",
              " '3,249',\n",
              " '873',\n",
              " '16,604',\n",
              " '34,998',\n",
              " '20',\n",
              " '1,308',\n",
              " '423',\n",
              " '4',\n",
              " '2',\n",
              " '79',\n",
              " '1,036',\n",
              " '16',\n",
              " '482',\n",
              " '2,063',\n",
              " '105',\n",
              " '34',\n",
              " '65',\n",
              " '131',\n",
              " '44,080',\n",
              " '446,743 23',\n",
              " '28 May 1908.',\n",
              " '32, Anmnecpon Srreer, Wesrarsrer, $.W.; or',\n",
              " '156. . ° [Priee 3d.}',\n",
              " '20 March 1911.',\n",
              " '19il.',\n",
              " '05, Price Pil.',\n",
              " '3 +',\n",
              " '17,807 7,989 } 19,878 | 19,491 Brought forward ~a x a .',\n",
              " '8 4 - ¥1 6 | Eornore-—conl.',\n",
              " '5 — 9 — Holland - Hungary = Italy -~ * aed 157 219 203 Norway Portugal + 1 1 1 2 Roumanin - ~~',\n",
              " '5 3 8 7 Sweden- -  — — \\\\ 1 Switzerland — —_ 1 & Torkey- > °3 2 _ 2 7 Asta',\n",
              " '59 39 6-4 74 Asia Mivor -  2, l 5 i China - + — — 4 F Jupag =~ -  — — 5 — Malay Peninsula $6 64 $9 120) Sinm + - 1 | = Sunda Islands «',\n",
              " '28 li a4 22 Algeria and Tunis 10 8 | if La Canary Islands =~',\n",
              " '5 3 3 ll Eeypt - - 89 45 | 56 91 East Africa - 3 8 2 § West Africa - =',\n",
              " '10 8 11 Madeira -  Réunioa AMERICA',\n",
              " '289 202 236 29 Argentine Republic',\n",
              " '185 138 169 195 Brazil - - 2 } 1 Central Armerica 86 | 67 79 s3]  Mexico- - 1,056 | 847 997 1,07 South America 3,059 | 2,296 3,038 $,22 Gnited States .',\n",
              " '1 | 1 4 Sandwich Islands = 94,905 | 12,780 | 26,790 | 26,543 Torn - =|',\n",
              " '1908.',\n",
              " '1',\n",
              " '12',\n",
              " '1908.',\n",
              " '1909; ¢',\n",
              " '24,905 | 12,780 ’',\n",
              " '90! a7',\n",
              " '103 ! 70',\n",
              " '160 | 120 |',\n",
              " '4 | Q',\n",
              " '113 | a',\n",
              " '38 | 25',\n",
              " '153 | 132 |',\n",
              " '243 19L |',\n",
              " '1} 1:',\n",
              " '3 2',\n",
              " '10 } 8',\n",
              " '284d | 2,408',\n",
              " '1}',\n",
              " '131',\n",
              " '156',\n",
              " '246',\n",
              " '7 |',\n",
              " '4',\n",
              " '0 by Pzrsons residing in the UnirEp',\n",
              " '156',\n",
              " '49°83 | 81:9 ¢',\n",
              " '1909 in the Unirep KINGDOM and in various FOREIGN StatTEs to',\n",
              " '1 United | . | . United',\n",
              " \"253 —_ 991 ' 426 103 | «188\",\n",
              " '144 56 286 143 3s 36',\n",
              " '2936 | 1,807 9,467 _ 1,142 | 1,189',\n",
              " '63 ng 68: 56 14 23',\n",
              " '35} 13 30 $1 | 16 a4',\n",
              " '85 | 53 97 + lié a6 33',\n",
              " '194° 173 353 | 350 — | 108',\n",
              " '2,308 326 1,322 | (929 Wy foo',\n",
              " '98 211 990 | 158 60 | 108',\n",
              " '6,485 3,377 6,632 | 3,899 9,134 | 3,812',\n",
              " '43°0 70°4 | 59°7 10-2']"
            ]
          },
          "metadata": {},
          "execution_count": 17
        }
      ]
    },
    {
      "cell_type": "code",
      "execution_count": null,
      "metadata": {
        "id": "4oMRbkrdDdsy"
      },
      "outputs": [],
      "source": [
        "good_lines=[line.replace('_',' ').replace('. ',' ').replace('-',' ').replace('—',' ')\\\n",
        "     .replace('~',' ').replace('=',' ').replace('  ',' ').replace('  ',' ')\\\n",
        "     .replace('»',' ')for line in good_lines]"
      ]
    }
  ],
  "metadata": {
    "kernelspec": {
      "display_name": "Python 3",
      "language": "python",
      "name": "python3"
    },
    "language_info": {
      "codemirror_mode": {
        "name": "ipython",
        "version": 3
      },
      "file_extension": ".py",
      "mimetype": "text/x-python",
      "name": "python",
      "nbconvert_exporter": "python",
      "pygments_lexer": "ipython3",
      "version": "3.7.4"
    },
    "colab": {
      "provenance": [],
      "collapsed_sections": []
    }
  },
  "nbformat": 4,
  "nbformat_minor": 0
}